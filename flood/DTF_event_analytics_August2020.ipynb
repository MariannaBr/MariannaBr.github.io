{
  "nbformat": 4,
  "nbformat_minor": 0,
  "metadata": {
    "colab": {
      "name": "DTF_event_analytics_August2020.ipynb",
      "provenance": [],
      "collapsed_sections": [
        "QKnt0GIXjSuj",
        "StO2wcjvGBmQ",
        "ABxjMi1RFVOF",
        "1w4LGuEg4URe",
        "lW8Ws9MY4Ihx",
        "P4_ZVnTkUJik",
        "kYFOMOpMtKMx",
        "6KP0u8_Oeccq",
        "pr4HxsuG5zlT",
        "Em3kXSW76vil"
      ],
      "toc_visible": true
    },
    "kernelspec": {
      "name": "python3",
      "display_name": "Python 3"
    }
  },
  "cells": [
    {
      "cell_type": "markdown",
      "metadata": {
        "id": "QKnt0GIXjSuj"
      },
      "source": [
        "#**Set up files and notebook**"
      ]
    },
    {
      "cell_type": "code",
      "metadata": {
        "id": "FbyyKsYqkyAt",
        "outputId": "bcbee5e4-d031-4b8f-c349-41a3ef41aae3",
        "colab": {
          "base_uri": "https://localhost:8080/",
          "height": 51
        }
      },
      "source": [
        "import datetime\n",
        "import pandas as pd\n",
        "import matplotlib.pyplot as plt\n",
        "import seaborn as sns\n",
        "import numpy as np\n",
        "#from mpl_toolkits.basemap import Basemap"
      ],
      "execution_count": 2,
      "outputs": []
    },
    {
      "cell_type": "code",
      "metadata": {
        "id": "cIDdvn5GOBSZ",
        "outputId": "6d257216-9a94-4d0b-d469-2aa9be81ca4c",
        "colab": {
          "base_uri": "https://localhost:8080/",
          "height": 34
        }
      },
      "source": [
        "# Authenticate google drive access and mount it to /content/drive path.\n",
        "from google.colab import drive\n",
        "drive.mount('/content/drive')"
      ],
      "execution_count": 4,
      "outputs": []
    },
    {
      "cell_type": "code",
      "metadata": {
        "id": "R4vXlhcWOVwE",
        "outputId": "0a312e36-a076-4fb8-c5ee-c1c6e2550c10",
        "colab": {
          "base_uri": "https://localhost:8080/",
          "height": 119
        }
      },
      "source": [
        "# Check the contents of the Data/ directory.\n",
        "import glob\n",
        "DATA_PATH_PREFIX = '/content/drive/My Drive/Colab Notebooks/Flood_game'\n",
        "def get_data_file(file_name):\n",
        "  return DATA_PATH_PREFIX+'/'+file_name \n",
        "glob.glob(DATA_PATH_PREFIX + '/*')"
      ],
      "execution_count": 3,
      "outputs": [
        {
          "output_type": "execute_result",
          "data": {
            "text/plain": [
              "['/content/drive/My Drive/Colab Notebooks/Flood_game/Data',\n",
              " '/content/drive/My Drive/Colab Notebooks/Flood_game/DTF: Event analytics.gdoc',\n",
              " '/content/drive/My Drive/Colab Notebooks/Flood_game/DTF Level analysis [010620 - 200720].gslides',\n",
              " '/content/drive/My Drive/Colab Notebooks/Flood_game/DTF_event_analytics_June_July2020.ipynb',\n",
              " '/content/drive/My Drive/Colab Notebooks/Flood_game/DTF Level analysis [190820 - 290820].gslides',\n",
              " '/content/drive/My Drive/Colab Notebooks/Flood_game/DTF_event_analytics_August2020.ipynb']"
            ]
          },
          "metadata": {
            "tags": []
          },
          "execution_count": 3
        }
      ]
    },
    {
      "cell_type": "code",
      "metadata": {
        "id": "isKCw9sUyBoy",
        "outputId": "e23fb8b7-de73-4a7a-aa72-4d3cc8edafcc",
        "colab": {
          "base_uri": "https://localhost:8080/",
          "height": 51
        }
      },
      "source": [
        "prefix = '/content/drive/My Drive/Colab Notebooks/Flood_game/Data'\n",
        "def get_file(file_name):\n",
        "  return prefix + '/' + file_name\n",
        "glob.glob(prefix + '/*')"
      ],
      "execution_count": 4,
      "outputs": [
        {
          "output_type": "execute_result",
          "data": {
            "text/plain": [
              "['/content/drive/My Drive/Colab Notebooks/Flood_game/Data/events_200829.json',\n",
              " '/content/drive/My Drive/Colab Notebooks/Flood_game/Data/events_200720.json']"
            ]
          },
          "metadata": {
            "tags": []
          },
          "execution_count": 4
        }
      ]
    },
    {
      "cell_type": "markdown",
      "metadata": {
        "id": "uaLSoJCxYabB"
      },
      "source": [
        "#**Definitions**"
      ]
    },
    {
      "cell_type": "markdown",
      "metadata": {
        "id": "StO2wcjvGBmQ"
      },
      "source": [
        "##**Helpers**"
      ]
    },
    {
      "cell_type": "code",
      "metadata": {
        "id": "CF5a9A0rGDn3"
      },
      "source": [
        "def create_df_country(data, countries):\n",
        "  data = data[data.country.isin(countries)]\n",
        "  return data\n",
        "\n",
        "def date_datetime(column):\n",
        "  column = pd.to_datetime(column, unit='us')       #.dt.time\n",
        "  return column\n",
        "\n",
        "def calculate_percentage(data, column):\n",
        "  data['transition_perc'] = round((data[column] / data[column][0])*100, 1)\n",
        "  return data\n",
        "\n",
        "def round_time(time):\n",
        "  return time.round(freq='S')\n",
        "\n",
        "def extract_dict(data, column):\n",
        "  data_extracted = data[column].apply(pd.Series)\n",
        "  return data_extracted"
      ],
      "execution_count": null,
      "outputs": []
    },
    {
      "cell_type": "markdown",
      "metadata": {
        "id": "ABxjMi1RFVOF"
      },
      "source": [
        "##**Functions' library**"
      ]
    },
    {
      "cell_type": "code",
      "metadata": {
        "id": "Hg9TEqtnFaef"
      },
      "source": [
        "def find_all_levels(event_params_list):\n",
        "  id = []\n",
        "  for i in range(len(event_params_list)):\n",
        "    for key in event_params_list[i]:\n",
        "      if 'level_id' == event_params_list[i]['key']:\n",
        "        return event_params_list[i]['value']['int_value']\n",
        "  return None\n",
        "\n",
        "def event_level_aggr(group):\n",
        "  result = {}\n",
        "  result['avg_play_time'] = avg_play_time(group) \n",
        "  return pd.Series(result, index=result.keys())\n",
        "\n",
        "def check_length_event(data, index):\n",
        "  length = []\n",
        "  for key, group in data:\n",
        "    length.append(group.shape[0])\n",
        "  max(length)\n",
        "  return length.index(index)\n",
        "\n",
        "def give_sum_session(group):\n",
        "  result = {}\n",
        "  result['number_of_sessions'] = len(group)\n",
        "  return pd.Series(result, index=result.keys())\n",
        "\n",
        "\n",
        "def find_min_max(group):\n",
        "  result = {}\n",
        "  result['min_time'] = min(group.session_length)\n",
        "  result['max_time'] = max(group.session_length)\n",
        "  return pd.Series(result, index=result.keys())\n",
        "\n",
        "def find_start_end(group):\n",
        "  result = {}\n",
        "  result['start_session_time'] = group.event_timestamp.iloc[0]\n",
        "  result['end_session_time'] = group.event_timestamp.iloc[-1]\n",
        "  return pd.Series(result, index=result.keys())\n",
        "\n",
        "def calculate_break(data):\n",
        "  data['break_between_sessions'] = data.start_session_time - data.end_session_time.shift(1)\n",
        "  return data\n",
        "\n",
        "def calculate_longer_gaps(data):\n",
        "  longer_gaps = data[data.break_between_sessions > datetime.timedelta(hours=1)]\n",
        "  users_more_sessions = data.user_pseudo_id.count()\n",
        "  users_longer_gaps = longer_gaps.user_pseudo_id.count()\n",
        "  percent = round((users_longer_gaps / users_more_sessions)*100, 1)\n",
        "  return percent\n",
        "\n",
        "def calculate_progress_amount(data):\n",
        "  for i in range(1, data.shape[0]):\n",
        "    data.amount_players.iloc[i] = sum(data.amount_players[i:])\n",
        "  return data\n",
        "\n",
        "def count_days(data):\n",
        "  data['day_Nr'] = 1\n",
        "  print(len(data.session_date))\n",
        "  for i in range(len(data.session_date)-1):\n",
        "    if data.user_pseudo_id.iloc[i+1] != data.user_pseudo_id.iloc[i]:\n",
        "      data.day_Nr.iloc[i+1] = 1\n",
        "    elif data.user_pseudo_id.iloc[i+1] == data.user_pseudo_id.iloc[i] and data.session_date.iloc[i+1] != data.session_date.iloc[i]:\n",
        "      data.day_Nr.iloc[i+1] = data.day_Nr.iloc[i] + 1\n",
        "    elif data.user_pseudo_id.iloc[i+1] == data.user_pseudo_id.iloc[i] and data.session_date.iloc[i+1] == data.session_date.iloc[i]:\n",
        "      data.day_Nr.iloc[i+1] = data.day_Nr.iloc[i]\n",
        "  return data\n",
        "\n",
        "def count_difference_days(data):\n",
        "  data['day_dif'] = 0\n",
        "  for i in range(len(data.session_date)-1):\n",
        "    if data.user_pseudo_id.iloc[i+1] == data.user_pseudo_id.iloc[i]:\n",
        "      data.day_dif.iloc[i+1] = data.session_date.iloc[i+1] - data.session_date.iloc[i]\n",
        "    elif data.user_pseudo_id.iloc[i+1] != data.user_pseudo_id.iloc[i]:\n",
        "      data.day_dif.iloc[i+1] = 0\n",
        "  return data\n",
        "\n",
        "def combine_frames(data1, data2, original_column):\n",
        "  final_data = pd.concat([data1, data2], axis=1).drop(original_column, axis=1)\n",
        "  return final_data\n",
        "\n",
        "def order_descending(data, series):\n",
        "  data = data.sort_values(series, ascending=False)\n",
        "  return data\n",
        "\n",
        "def give_month(takeoff):\n",
        "  s = takeoff[5:7]\n",
        "  month_to_name = {'01': 1, '02':2, '03': 3, '04':4, \n",
        "                   '05':5, '06':6, '07':7, '08':8, '09':9,\n",
        "                   '10':10, '11':11, '12':12}\n",
        "  return month_to_name[s]\n",
        "  \n",
        "months = ['January', 'February', 'March', 'April', 'May', 'June', 'July', 'August',\n",
        "          'September', 'October', 'November', 'December']\n",
        "\n",
        "def get_month_index(month):\n",
        "  return month-1\n",
        "\n",
        "def get_country_index(country):\n",
        "  return country_idx[country]\n",
        "\n",
        "def clean_time(time):\n",
        "  time = time[2:4] + \":\" + time[5:7] + \":\" + time[8:10]\n",
        "  return time\n",
        "\n",
        "def find_mistake_time(time):\n",
        "  if time[6] == \"-\":\n",
        "    return False\n",
        "  else:\n",
        "    return True\n",
        "\n",
        "def define_time_categories(time):\n",
        "  if time[0] != '0' and time[3] in ['0', '1', '2']:\n",
        "    t = int(time[0:2]) + 0.5\n",
        "  elif time[0] == '0' and time[3] in ['0', '1', '2']:\n",
        "    t = int(time[1]) + 0.5\n",
        "  elif time[0] == '0' and time[3] in ['3', '4', '5']:\n",
        "    t = int(time[1]) + 0.9\n",
        "  elif time[0] != '0' and time[3] in ['3', '4', '5']:\n",
        "    t = int(time[0:2]) + 0.9\n",
        "  return t\n",
        "\n",
        "time_categories = ['0:30', '1:00', '1:30', '2:00', '2:30', '3:00', '3:30', '4:00', '4:30', '5:00', '5:30', '6:00', \n",
        "                   '6:30', '7:00', '7:30', '8:00', '8:30', '9:00', '9:30', '10:00', '10:30', '11:00']\n",
        "\n",
        "def make_delta_time(time):\n",
        "  h, m, s = time.split(':')\n",
        "  return datetime.timedelta(hours=int(h), minutes=int(m), seconds=int(s))\n",
        "\n",
        "def return_to_time(number):\n",
        "  number = pd.TimedeltaIndex(number, unit='m')\n",
        "  return number\n",
        "\n",
        "def myplot(graph):\n",
        "  graph = graph[graph.index < pd.Timedelta(seconds=5*3600)]\n",
        "  ax = graph.plot(figsize=(25,15)) \n",
        "  vals = ax.get_yticks()\n",
        "  ax.set_yticklabels(['{}%'.format(x) for x in vals])\n",
        "\n",
        "def get_percents(amount):\n",
        "  amount = amount / sum(amount)*100\n",
        "  return amount"
      ],
      "execution_count": null,
      "outputs": []
    },
    {
      "cell_type": "markdown",
      "metadata": {
        "id": "xwBeS-WtBZpo"
      },
      "source": [
        "#**Read and clean the original data**"
      ]
    },
    {
      "cell_type": "markdown",
      "metadata": {
        "id": "1w4LGuEg4URe"
      },
      "source": [
        "##**Definitions**"
      ]
    },
    {
      "cell_type": "code",
      "metadata": {
        "id": "souLU2IP4TnU"
      },
      "source": [
        "def read_data(file):\n",
        "  data = pd.read_json(get_file(file), orient='records', lines=True)\n",
        "  return data\n",
        "\n",
        "def cleanup(data):\n",
        "  data = data[['event_date', 'event_timestamp', 'event_name', 'event_params', \n",
        "               'user_pseudo_id', 'geo', 'app_info', 'traffic_source', 'platform', \n",
        "               'event_previous_timestamp']]\n",
        "  return data\n",
        "\n",
        "def date_datetime(column):\n",
        "  column = pd.to_datetime(column, unit='us')       #.dt.time\n",
        "  return column\n",
        "\n",
        "def find_key_value_string(event_param_list, key):\n",
        "  for event_param_dict in event_param_list:\n",
        "    if key == event_param_dict['key']:\n",
        "      return event_param_dict['value']['string_value']\n",
        "  return None\n",
        "\n",
        "def find_key_value(event_param_list, key):\n",
        "  for event_param_dict in event_param_list:\n",
        "    if key == event_param_dict['key']:\n",
        "      return int(event_param_dict['value']['int_value'])\n",
        "  return None\n",
        "\n",
        "def find_key_value_int_as_str(event_param_list, key):\n",
        "  for event_param_dict in event_param_list:\n",
        "    if key == event_param_dict['key']:\n",
        "      return str(event_param_dict['value']['int_value'])\n",
        "  return None\n",
        "\n",
        "def find_key_value_int_as_str(event_param_list, key):\n",
        "  for event_param_dict in event_param_list:\n",
        "    if key == event_param_dict['key']:\n",
        "      return str(event_param_dict['value']['int_value'])\n",
        "  return None\n",
        "\n",
        "def find_country(geo_dict):\n",
        "  if 'country' in geo_dict:\n",
        "    return geo_dict['country']\n",
        "  return None\n",
        "\n",
        "def find_version(app_dict):\n",
        "  if 'version' in app_dict:\n",
        "    return app_dict['version']\n",
        "  return None\n",
        "\n",
        "def concate_dict_to_string(traf_dict):\n",
        "  source = ''\n",
        "  for key, value in traf_dict.items():\n",
        "    source += key[0] + ':' + value + ','\n",
        "  return source\n",
        "\n",
        "def give_levels(group):\n",
        "  result = {}\n",
        "  result['level_1'] = group.level_id.isin([1]).sum()\n",
        "  result['level_2'] = group.level_id.isin([2]).sum()\n",
        "  result['level_3'] = group.level_id.isin([3]).sum()\n",
        "  result['level_4'] = group.level_id.isin([4]).sum()\n",
        "  result['level_5'] = group.level_id.isin([5]).sum()\n",
        "  result['level_8'] = group.level_id.isin([8]).sum()\n",
        "  result['level_9'] = group.level_id.isin([9]).sum()\n",
        "  return pd.Series(result, index=result.keys())\n",
        "\n",
        "def calc_players_countries(group):\n",
        "  result = {}\n",
        "  result['sum_players'] = len(group.user_pseudo_id)\n",
        "  return pd.Series(result, index=result.keys())"
      ],
      "execution_count": null,
      "outputs": []
    },
    {
      "cell_type": "markdown",
      "metadata": {
        "id": "lW8Ws9MY4Ihx"
      },
      "source": [
        "##**Read the data**"
      ]
    },
    {
      "cell_type": "code",
      "metadata": {
        "id": "yKZR8QTdb4VB",
        "outputId": "0ca76176-8008-4f78-bf3c-2fdfd4e22e4c",
        "colab": {
          "base_uri": "https://localhost:8080/"
        }
      },
      "source": [
        "original_data = read_data('events_200829.json')\n",
        "print(original_data.shape)\n",
        "original_data.head()"
      ],
      "execution_count": null,
      "outputs": [
        {
          "output_type": "stream",
          "text": [
            "(24472, 17)\n"
          ],
          "name": "stdout"
        },
        {
          "output_type": "execute_result",
          "data": {
            "text/html": [
              "<div>\n",
              "<style scoped>\n",
              "    .dataframe tbody tr th:only-of-type {\n",
              "        vertical-align: middle;\n",
              "    }\n",
              "\n",
              "    .dataframe tbody tr th {\n",
              "        vertical-align: top;\n",
              "    }\n",
              "\n",
              "    .dataframe thead th {\n",
              "        text-align: right;\n",
              "    }\n",
              "</style>\n",
              "<table border=\"1\" class=\"dataframe\">\n",
              "  <thead>\n",
              "    <tr style=\"text-align: right;\">\n",
              "      <th></th>\n",
              "      <th>event_date</th>\n",
              "      <th>event_timestamp</th>\n",
              "      <th>event_name</th>\n",
              "      <th>event_params</th>\n",
              "      <th>event_bundle_sequence_id</th>\n",
              "      <th>event_server_timestamp_offset</th>\n",
              "      <th>user_pseudo_id</th>\n",
              "      <th>user_properties</th>\n",
              "      <th>user_first_touch_timestamp</th>\n",
              "      <th>device</th>\n",
              "      <th>geo</th>\n",
              "      <th>app_info</th>\n",
              "      <th>traffic_source</th>\n",
              "      <th>stream_id</th>\n",
              "      <th>platform</th>\n",
              "      <th>items</th>\n",
              "      <th>event_previous_timestamp</th>\n",
              "    </tr>\n",
              "  </thead>\n",
              "  <tbody>\n",
              "    <tr>\n",
              "      <th>0</th>\n",
              "      <td>20200828</td>\n",
              "      <td>1598616792034000</td>\n",
              "      <td>app_remove</td>\n",
              "      <td>[{'key': 'firebase_event_origin', 'value': {'s...</td>\n",
              "      <td>13</td>\n",
              "      <td>-882025</td>\n",
              "      <td>ab7f8ab8eb72cfd503a08429fb5e6b17</td>\n",
              "      <td>[{'key': 'ga_session_number', 'value': {'int_v...</td>\n",
              "      <td>1598359233359000</td>\n",
              "      <td>{'category': 'mobile', 'mobile_brand_name': 'H...</td>\n",
              "      <td>{'continent': 'Europe', 'country': 'United Kin...</td>\n",
              "      <td>{'id': 'com.TaterGames.DamTheFlood', 'version'...</td>\n",
              "      <td>{'name': '(direct)', 'medium': '(none)', 'sour...</td>\n",
              "      <td>1918950609</td>\n",
              "      <td>ANDROID</td>\n",
              "      <td>[]</td>\n",
              "      <td>NaN</td>\n",
              "    </tr>\n",
              "    <tr>\n",
              "      <th>1</th>\n",
              "      <td>20200828</td>\n",
              "      <td>1598610325684000</td>\n",
              "      <td>app_remove</td>\n",
              "      <td>[{'key': 'firebase_event_origin', 'value': {'s...</td>\n",
              "      <td>9</td>\n",
              "      <td>2627094</td>\n",
              "      <td>a42917df7f7c1710f6e91b097f4d21a7</td>\n",
              "      <td>[{'key': 'ga_session_number', 'value': {'int_v...</td>\n",
              "      <td>1598118372271000</td>\n",
              "      <td>{'category': 'tablet', 'mobile_brand_name': 'S...</td>\n",
              "      <td>{'continent': 'Europe', 'country': 'United Kin...</td>\n",
              "      <td>{'id': 'com.TaterGames.DamTheFlood', 'version'...</td>\n",
              "      <td>{'name': '(direct)', 'medium': '(none)', 'sour...</td>\n",
              "      <td>1918950609</td>\n",
              "      <td>ANDROID</td>\n",
              "      <td>[]</td>\n",
              "      <td>NaN</td>\n",
              "    </tr>\n",
              "    <tr>\n",
              "      <th>2</th>\n",
              "      <td>20200828</td>\n",
              "      <td>1598634307770000</td>\n",
              "      <td>app_remove</td>\n",
              "      <td>[{'key': 'firebase_event_origin', 'value': {'s...</td>\n",
              "      <td>5</td>\n",
              "      <td>-1114701</td>\n",
              "      <td>8fca30b80866a6e4a97769a04cdba038</td>\n",
              "      <td>[{'key': 'ga_session_number', 'value': {'int_v...</td>\n",
              "      <td>1598546134112000</td>\n",
              "      <td>{'category': 'mobile', 'mobile_brand_name': 'H...</td>\n",
              "      <td>{'continent': 'Europe', 'country': 'United Kin...</td>\n",
              "      <td>{'id': 'com.TaterGames.DamTheFlood', 'version'...</td>\n",
              "      <td>{'name': '(direct)', 'medium': '(none)', 'sour...</td>\n",
              "      <td>1918950609</td>\n",
              "      <td>ANDROID</td>\n",
              "      <td>[]</td>\n",
              "      <td>NaN</td>\n",
              "    </tr>\n",
              "    <tr>\n",
              "      <th>3</th>\n",
              "      <td>20200828</td>\n",
              "      <td>1598642358014000</td>\n",
              "      <td>session_start</td>\n",
              "      <td>[{'key': 'firebase_event_origin', 'value': {'s...</td>\n",
              "      <td>5</td>\n",
              "      <td>-4714004</td>\n",
              "      <td>1df8a053cb8e5c4f515abcd3dfc14de2</td>\n",
              "      <td>[{'key': 'ga_session_number', 'value': {'int_v...</td>\n",
              "      <td>1598256870014000</td>\n",
              "      <td>{'category': 'mobile', 'mobile_brand_name': 'H...</td>\n",
              "      <td>{'continent': 'Europe', 'country': 'United Kin...</td>\n",
              "      <td>{'id': 'com.TaterGames.DamTheFlood', 'version'...</td>\n",
              "      <td>{'name': '(direct)', 'medium': '(none)', 'sour...</td>\n",
              "      <td>1918950609</td>\n",
              "      <td>ANDROID</td>\n",
              "      <td>[]</td>\n",
              "      <td>1.598257e+15</td>\n",
              "    </tr>\n",
              "    <tr>\n",
              "      <th>4</th>\n",
              "      <td>20200828</td>\n",
              "      <td>1598642358045001</td>\n",
              "      <td>screen_view</td>\n",
              "      <td>[{'key': 'entrances', 'value': {'int_value': '...</td>\n",
              "      <td>5</td>\n",
              "      <td>-4714004</td>\n",
              "      <td>1df8a053cb8e5c4f515abcd3dfc14de2</td>\n",
              "      <td>[{'key': 'ga_session_number', 'value': {'int_v...</td>\n",
              "      <td>1598256870014000</td>\n",
              "      <td>{'category': 'mobile', 'mobile_brand_name': 'H...</td>\n",
              "      <td>{'continent': 'Europe', 'country': 'United Kin...</td>\n",
              "      <td>{'id': 'com.TaterGames.DamTheFlood', 'version'...</td>\n",
              "      <td>{'name': '(direct)', 'medium': '(none)', 'sour...</td>\n",
              "      <td>1918950609</td>\n",
              "      <td>ANDROID</td>\n",
              "      <td>[]</td>\n",
              "      <td>1.598257e+15</td>\n",
              "    </tr>\n",
              "  </tbody>\n",
              "</table>\n",
              "</div>"
            ],
            "text/plain": [
              "   event_date   event_timestamp  ... items event_previous_timestamp\n",
              "0    20200828  1598616792034000  ...    []                      NaN\n",
              "1    20200828  1598610325684000  ...    []                      NaN\n",
              "2    20200828  1598634307770000  ...    []                      NaN\n",
              "3    20200828  1598642358014000  ...    []             1.598257e+15\n",
              "4    20200828  1598642358045001  ...    []             1.598257e+15\n",
              "\n",
              "[5 rows x 17 columns]"
            ]
          },
          "metadata": {
            "tags": []
          },
          "execution_count": 8
        }
      ]
    },
    {
      "cell_type": "markdown",
      "metadata": {
        "id": "P4_ZVnTkUJik"
      },
      "source": [
        "##**Clean up the data**"
      ]
    },
    {
      "cell_type": "markdown",
      "metadata": {
        "id": "8bNbzJHcehZW"
      },
      "source": [
        "**Delete unimportant columns** "
      ]
    },
    {
      "cell_type": "code",
      "metadata": {
        "id": "rfe3sngGUI9H",
        "outputId": "39e7426c-ab72-4738-ae1e-c90ca4960007",
        "colab": {
          "base_uri": "https://localhost:8080/"
        }
      },
      "source": [
        "original_data_cleaned = cleanup(original_data)\n",
        "original_data_cleaned.event_timestamp = date_datetime(original_data_cleaned.event_timestamp)\n",
        "original_data_cleaned = original_data_cleaned.sort_values('event_timestamp')"
      ],
      "execution_count": null,
      "outputs": [
        {
          "output_type": "stream",
          "text": [
            "/usr/local/lib/python3.6/dist-packages/pandas/core/generic.py:5303: SettingWithCopyWarning: \n",
            "A value is trying to be set on a copy of a slice from a DataFrame.\n",
            "Try using .loc[row_indexer,col_indexer] = value instead\n",
            "\n",
            "See the caveats in the documentation: https://pandas.pydata.org/pandas-docs/stable/user_guide/indexing.html#returning-a-view-versus-a-copy\n",
            "  self[name] = value\n"
          ],
          "name": "stderr"
        }
      ]
    },
    {
      "cell_type": "markdown",
      "metadata": {
        "id": "FRcAvKDoepop"
      },
      "source": [
        "**Take interesting keys from dictionaries to new columns**"
      ]
    },
    {
      "cell_type": "code",
      "metadata": {
        "id": "M4XrizsFu6dn"
      },
      "source": [
        "original_data_cleaned['ga_session_id'] = original_data_cleaned['event_params'].apply(lambda x: find_key_value_int_as_str(x, 'ga_session_id'))\n",
        "original_data_cleaned['level_id'] = original_data_cleaned['event_params'].apply(lambda x: find_key_value(x, 'level_id'))\n",
        "original_data_cleaned['medium'] = original_data_cleaned['event_params'].apply(lambda x: find_key_value_string(x, 'medium'))\n",
        "original_data_cleaned['country'] = original_data_cleaned['geo'].apply(find_country)\n",
        "original_data_cleaned['app_version'] = original_data_cleaned['app_info'].apply(find_version)\n",
        "original_data_cleaned['traff_source'] = original_data_cleaned['traffic_source'].apply(concate_dict_to_string)"
      ],
      "execution_count": null,
      "outputs": []
    },
    {
      "cell_type": "markdown",
      "metadata": {
        "id": "k2eKtIqke01x"
      },
      "source": [
        "**Delete original columns with dictionaries**"
      ]
    },
    {
      "cell_type": "code",
      "metadata": {
        "id": "7xWHL8iDY8j-",
        "outputId": "8810d644-2098-4cfe-ebbb-8b3ba2632c27",
        "colab": {
          "base_uri": "https://localhost:8080/"
        }
      },
      "source": [
        "data_fin = original_data_cleaned.drop(['event_params', 'geo', 'app_info', 'traffic_source'], axis=1)\n",
        "data_fin.head()"
      ],
      "execution_count": null,
      "outputs": [
        {
          "output_type": "execute_result",
          "data": {
            "text/html": [
              "<div>\n",
              "<style scoped>\n",
              "    .dataframe tbody tr th:only-of-type {\n",
              "        vertical-align: middle;\n",
              "    }\n",
              "\n",
              "    .dataframe tbody tr th {\n",
              "        vertical-align: top;\n",
              "    }\n",
              "\n",
              "    .dataframe thead th {\n",
              "        text-align: right;\n",
              "    }\n",
              "</style>\n",
              "<table border=\"1\" class=\"dataframe\">\n",
              "  <thead>\n",
              "    <tr style=\"text-align: right;\">\n",
              "      <th></th>\n",
              "      <th>event_date</th>\n",
              "      <th>event_timestamp</th>\n",
              "      <th>event_name</th>\n",
              "      <th>user_pseudo_id</th>\n",
              "      <th>platform</th>\n",
              "      <th>event_previous_timestamp</th>\n",
              "      <th>ga_session_id</th>\n",
              "      <th>level_id</th>\n",
              "      <th>medium</th>\n",
              "      <th>country</th>\n",
              "      <th>app_version</th>\n",
              "      <th>traff_source</th>\n",
              "    </tr>\n",
              "  </thead>\n",
              "  <tbody>\n",
              "    <tr>\n",
              "      <th>697</th>\n",
              "      <td>20200819</td>\n",
              "      <td>2020-08-19 01:14:03.397000</td>\n",
              "      <td>app_remove</td>\n",
              "      <td>a6f4f9941e8870b98270533f21eb0b87</td>\n",
              "      <td>ANDROID</td>\n",
              "      <td>NaN</td>\n",
              "      <td>1595135175</td>\n",
              "      <td>NaN</td>\n",
              "      <td>None</td>\n",
              "      <td>Australia</td>\n",
              "      <td>0.4.18</td>\n",
              "      <td>n:(direct),m:(none),s:(direct),</td>\n",
              "    </tr>\n",
              "    <tr>\n",
              "      <th>698</th>\n",
              "      <td>20200819</td>\n",
              "      <td>2020-08-19 05:11:17.996000</td>\n",
              "      <td>app_remove</td>\n",
              "      <td>b596c061438b59c29cec3f00c68b3fe9</td>\n",
              "      <td>ANDROID</td>\n",
              "      <td>NaN</td>\n",
              "      <td>1594355023</td>\n",
              "      <td>NaN</td>\n",
              "      <td>None</td>\n",
              "      <td>Australia</td>\n",
              "      <td>0.4.36</td>\n",
              "      <td>n:(direct),m:(none),s:(direct),</td>\n",
              "    </tr>\n",
              "    <tr>\n",
              "      <th>737</th>\n",
              "      <td>20200819</td>\n",
              "      <td>2020-08-19 06:56:28.143001</td>\n",
              "      <td>screen_view</td>\n",
              "      <td>6E42167FF75B4778A171484510699290</td>\n",
              "      <td>IOS</td>\n",
              "      <td>1.597680e+15</td>\n",
              "      <td>1597820189</td>\n",
              "      <td>NaN</td>\n",
              "      <td>None</td>\n",
              "      <td>Finland</td>\n",
              "      <td>0.4.41</td>\n",
              "      <td>n:(direct),m:(none),s:(direct),</td>\n",
              "    </tr>\n",
              "    <tr>\n",
              "      <th>738</th>\n",
              "      <td>20200819</td>\n",
              "      <td>2020-08-19 06:56:29.797000</td>\n",
              "      <td>login</td>\n",
              "      <td>6E42167FF75B4778A171484510699290</td>\n",
              "      <td>IOS</td>\n",
              "      <td>1.597680e+15</td>\n",
              "      <td>1597820189</td>\n",
              "      <td>NaN</td>\n",
              "      <td>None</td>\n",
              "      <td>Finland</td>\n",
              "      <td>0.4.41</td>\n",
              "      <td>n:(direct),m:(none),s:(direct),</td>\n",
              "    </tr>\n",
              "    <tr>\n",
              "      <th>736</th>\n",
              "      <td>20200819</td>\n",
              "      <td>2020-08-19 06:56:29.912000</td>\n",
              "      <td>session_start</td>\n",
              "      <td>6E42167FF75B4778A171484510699290</td>\n",
              "      <td>IOS</td>\n",
              "      <td>1.597680e+15</td>\n",
              "      <td>1597820189</td>\n",
              "      <td>NaN</td>\n",
              "      <td>None</td>\n",
              "      <td>Finland</td>\n",
              "      <td>0.4.41</td>\n",
              "      <td>n:(direct),m:(none),s:(direct),</td>\n",
              "    </tr>\n",
              "  </tbody>\n",
              "</table>\n",
              "</div>"
            ],
            "text/plain": [
              "     event_date  ...                     traff_source\n",
              "697    20200819  ...  n:(direct),m:(none),s:(direct),\n",
              "698    20200819  ...  n:(direct),m:(none),s:(direct),\n",
              "737    20200819  ...  n:(direct),m:(none),s:(direct),\n",
              "738    20200819  ...  n:(direct),m:(none),s:(direct),\n",
              "736    20200819  ...  n:(direct),m:(none),s:(direct),\n",
              "\n",
              "[5 rows x 12 columns]"
            ]
          },
          "metadata": {
            "tags": []
          },
          "execution_count": 11
        }
      ]
    },
    {
      "cell_type": "code",
      "metadata": {
        "id": "kuoVYP5Gx9ZC",
        "outputId": "17729ae7-03d7-4626-b938-103edd8db515",
        "colab": {
          "base_uri": "https://localhost:8080/"
        }
      },
      "source": [
        "data_fin.info()"
      ],
      "execution_count": null,
      "outputs": [
        {
          "output_type": "stream",
          "text": [
            "<class 'pandas.core.frame.DataFrame'>\n",
            "Int64Index: 24472 entries, 697 to 1037\n",
            "Data columns (total 12 columns):\n",
            " #   Column                    Non-Null Count  Dtype         \n",
            "---  ------                    --------------  -----         \n",
            " 0   event_date                24472 non-null  int64         \n",
            " 1   event_timestamp           24472 non-null  datetime64[ns]\n",
            " 2   event_name                24472 non-null  object        \n",
            " 3   user_pseudo_id            24472 non-null  object        \n",
            " 4   platform                  24472 non-null  object        \n",
            " 5   event_previous_timestamp  15692 non-null  float64       \n",
            " 6   ga_session_id             23009 non-null  object        \n",
            " 7   level_id                  12961 non-null  float64       \n",
            " 8   medium                    509 non-null    object        \n",
            " 9   country                   24472 non-null  object        \n",
            " 10  app_version               24472 non-null  object        \n",
            " 11  traff_source              24472 non-null  object        \n",
            "dtypes: datetime64[ns](1), float64(2), int64(1), object(8)\n",
            "memory usage: 2.4+ MB\n"
          ],
          "name": "stdout"
        }
      ]
    },
    {
      "cell_type": "markdown",
      "metadata": {
        "id": "kYFOMOpMtKMx"
      },
      "source": [
        "##**Choosing the countries for analysis**"
      ]
    },
    {
      "cell_type": "code",
      "metadata": {
        "id": "fIe1Jz7btN4j",
        "outputId": "da052a38-8f2e-4a37-ab97-e9ae50727aed",
        "colab": {
          "base_uri": "https://localhost:8080/"
        }
      },
      "source": [
        "data_countries = data_fin.groupby('country').apply(calc_players_countries).reset_index()\n",
        "data_countries.plot.bar(x='country', y='sum_players', figsize=(15,7))"
      ],
      "execution_count": null,
      "outputs": [
        {
          "output_type": "execute_result",
          "data": {
            "text/plain": [
              "<matplotlib.axes._subplots.AxesSubplot at 0x7f9a80c81358>"
            ]
          },
          "metadata": {
            "tags": []
          },
          "execution_count": 13
        },
        {
          "output_type": "display_data",
          "data": {
            "image/png": "[encoded data removed]",
            "text/plain": [
              "<Figure size 1080x504 with 1 Axes>"
            ]
          },
          "metadata": {
            "tags": [],
            "needs_background": "light"
          }
        }
      ]
    },
    {
      "cell_type": "markdown",
      "metadata": {
        "id": "RVNvsMPljyum"
      },
      "source": [
        "##**Specific cleaning, debugging for this campaign**"
      ]
    },
    {
      "cell_type": "markdown",
      "metadata": {
        "id": "6KP0u8_Oeccq"
      },
      "source": [
        "###**Sellecting users who did have level 9 but not level 8**"
      ]
    },
    {
      "cell_type": "code",
      "metadata": {
        "id": "m5EcpHsiPzEk",
        "outputId": "32ae626e-72e5-49c0-a311-0d2a5fa38830",
        "colab": {
          "base_uri": "https://localhost:8080/"
        }
      },
      "source": [
        "players_levels = data_fin.groupby(['user_pseudo_id']).apply(give_levels).reset_index()\n",
        "print(len(data_fin.user_pseudo_id.unique()), 'unique players')\n",
        "players_level_8 = players_levels[players_levels.level_8 > 0]\n",
        "players_level_9 = players_levels[players_levels.level_9 > 0]\n",
        "print(len(players_level_8), 'unique players - level 8')\n",
        "print(len(players_level_9), 'unique players - level 9')\n",
        "players_level_8_9 = players_level_8.merge(players_level_9, how='outer')\n",
        "players_level_8_9 = players_level_8_9[players_level_8_9.level_8 == 0]"
      ],
      "execution_count": null,
      "outputs": [
        {
          "output_type": "stream",
          "text": [
            "953 unique players\n",
            "65 unique players - level 8\n",
            "178 unique players - level 9\n"
          ],
          "name": "stdout"
        }
      ]
    },
    {
      "cell_type": "markdown",
      "metadata": {
        "id": "MafNmbi3kJjG"
      },
      "source": [
        "Analazing why some users didn't have level 8 but had level 9 => reason: in this version was level 8 put after level 13."
      ]
    },
    {
      "cell_type": "code",
      "metadata": {
        "id": "3oVnYFKgo3mQ"
      },
      "source": [
        "#user1 = data_fin[data_fin.user_pseudo_id == '041C7ABA00F5430B909B30F2F52EA8EC']\n",
        "#user1[['user_pseudo_id', 'event_timestamp', 'event_name', 'level_id', 'country', 'app_version']]"
      ],
      "execution_count": null,
      "outputs": []
    },
    {
      "cell_type": "markdown",
      "metadata": {
        "id": "VLdfnf1jthIt"
      },
      "source": [
        "###**Analysis of games dropping from level 4 to level 5**"
      ]
    },
    {
      "cell_type": "markdown",
      "metadata": {
        "id": "hicjMOfQw7n9"
      },
      "source": [
        "**Unique players on levels**"
      ]
    },
    {
      "cell_type": "code",
      "metadata": {
        "id": "AXzR3mWltuLp",
        "outputId": "8d11feb0-d990-42b7-df81-550cc8356873",
        "colab": {
          "base_uri": "https://localhost:8080/",
          "height": 115
        }
      },
      "source": [
        "players_level_1 = players_levels[players_levels.level_1 > 0]\n",
        "players_level_2 = players_levels[players_levels.level_2 > 0]\n",
        "players_level_3 = players_levels[players_levels.level_3 > 0]\n",
        "players_level_4 = players_levels[players_levels.level_4 > 0]\n",
        "players_level_5 = players_levels[players_levels.level_5 > 0]\n",
        "print('Unique players per level and calculated drop per level')\n",
        "print(len(players_level_1), ' - level 1')\n",
        "print(len(players_level_2), round(100 - len(players_level_2) / len(players_level_1)*100,2), '% drop', '- level 2')\n",
        "print(len(players_level_3), round(100 - len(players_level_3) / len(players_level_2)*100,2), '% drop', ' - level 3')\n",
        "print(len(players_level_4), round(100 - len(players_level_4) / len(players_level_3)*100,2), '% drop', ' - level 4')\n",
        "print(len(players_level_5), round(100 - len(players_level_5) / len(players_level_4)*100,2), '% drop', ' - level 5')"
      ],
      "execution_count": null,
      "outputs": [
        {
          "output_type": "stream",
          "text": [
            "Unique players per level and calculated drop per level\n",
            "910  - level 1\n",
            "844 7.25 % drop - level 2\n",
            "703 16.71 % drop  - level 3\n",
            "568 19.2 % drop  - level 4\n",
            "326 42.61 % drop  - level 5\n"
          ],
          "name": "stdout"
        }
      ]
    },
    {
      "cell_type": "code",
      "metadata": {
        "id": "ZB7p_Qj54Gh8"
      },
      "source": [
        "players_level_4_5 = players_level_5.merge(players_level_4, how='outer')\n",
        "players_level_4_5 = players_level_4_5[players_level_4_5.level_5 == 0].drop(['level_1', 'level_2', 'level_3', 'level_8', 'level_9'], axis=1)"
      ],
      "execution_count": null,
      "outputs": []
    },
    {
      "cell_type": "markdown",
      "metadata": {
        "id": "SUZ83B0L5wf7"
      },
      "source": [
        "**All users who stopped after level 4**"
      ]
    },
    {
      "cell_type": "code",
      "metadata": {
        "id": "wTXyg_zj54h6"
      },
      "source": [
        "players_stopped = players_level_4_5.user_pseudo_id\n",
        "players_stopped_df = data_fin[data_fin.user_pseudo_id.isin(players_stopped)]\n",
        "level_4_df =  players_stopped_df[players_stopped_df.level_id == 4]\n",
        "level_4_finish = level_4_df[level_4_df.event_name == 'level_finish']\n",
        "players_level_4_finish = level_4_finish.user_pseudo_id.unique()\n",
        "level_4_finishes = level_4_finish.groupby(['user_pseudo_id']).size().reset_index().rename(columns={0: 'num_finishes'})\n",
        "level_4__more_finishes = level_4_finishes[level_4_finishes.num_finishes > 1]\n"
      ],
      "execution_count": null,
      "outputs": []
    },
    {
      "cell_type": "markdown",
      "metadata": {
        "id": "mgBtIDAWvNk6"
      },
      "source": [
        "**All user who removed app after level 4**"
      ]
    },
    {
      "cell_type": "code",
      "metadata": {
        "id": "cdBLSGsnvSx4"
      },
      "source": [
        "players_removed_app_df = players_stopped_df[players_stopped_df.event_name == 'app_remove']\n",
        "players_removed_app = players_removed_app_df.user_pseudo_id\n",
        "sum_players_removed_app = len(players_removed_app_df)"
      ],
      "execution_count": null,
      "outputs": []
    },
    {
      "cell_type": "markdown",
      "metadata": {
        "id": "7T8WFUtlvaBA"
      },
      "source": [
        "**All users who stopped after level 4 but didn't remove the app**"
      ]
    },
    {
      "cell_type": "code",
      "metadata": {
        "id": "ReizsEaBvhP8"
      },
      "source": [
        "players_stopped_NOT_removed_app = set(players_stopped) - set(players_removed_app)\n",
        "players_stopped_NOT_removed_app_df = data_fin[data_fin.user_pseudo_id.isin(players_stopped_NOT_removed_app)]"
      ],
      "execution_count": null,
      "outputs": []
    },
    {
      "cell_type": "code",
      "metadata": {
        "id": "fQ7dsZwbvnuf",
        "outputId": "df14cb80-9587-4e28-e8ee-dce2da784b56",
        "colab": {
          "base_uri": "https://localhost:8080/",
          "height": 98
        }
      },
      "source": [
        "print(len(players_level_4_5), 'players stopped playing at level 4.')\n",
        "print(len(players_level_4_finish), 'players finished the level 4 at least once.')\n",
        "print(len(level_4__more_finishes), 'players finishes the level 4 more than once.')\n",
        "print(sum_players_removed_app, 'players removed the app after level 4.')\n",
        "print(len(players_stopped_NOT_removed_app), 'players stopped playing after level 4, but didn\\'t remove the app.')"
      ],
      "execution_count": null,
      "outputs": [
        {
          "output_type": "stream",
          "text": [
            "242 players stopped playing at level 4.\n",
            "193 players finished the level 4 at least once.\n",
            "48 players finishes the level 4 more than once.\n",
            "111 players removed the app after level 4.\n",
            "132 players stopped playing after level 4, but didn't remove the app.\n"
          ],
          "name": "stdout"
        }
      ]
    },
    {
      "cell_type": "markdown",
      "metadata": {
        "id": "E_HYDmWthdSB"
      },
      "source": [
        "###**Analysis of games dropping from level 3 to level 4**"
      ]
    },
    {
      "cell_type": "markdown",
      "metadata": {
        "id": "7jo9oOrSpdAV"
      },
      "source": [
        ""
      ]
    },
    {
      "cell_type": "markdown",
      "metadata": {
        "id": "psjeG-FphmjQ"
      },
      "source": [
        "**All users who stopped after level 3**"
      ]
    },
    {
      "cell_type": "code",
      "metadata": {
        "id": "RZTVkm50h4ib"
      },
      "source": [
        "players_level_3_4 = players_level_4.merge(players_level_3, how='outer')\n",
        "players_level_3_4 = players_level_3_4[players_level_3_4.level_4 == 0].drop(['level_1', 'level_2', 'level_5', 'level_8', 'level_9'], axis=1)"
      ],
      "execution_count": null,
      "outputs": []
    },
    {
      "cell_type": "code",
      "metadata": {
        "id": "ppnnAFkGhtBd"
      },
      "source": [
        "players_stopped = players_level_3_4.user_pseudo_id\n",
        "players_stopped_df = data_fin[data_fin.user_pseudo_id.isin(players_stopped)]\n",
        "level_3_df =  players_stopped_df[players_stopped_df.level_id == 3]\n",
        "level_3_finish = level_3_df[level_3_df.event_name == 'level_finish']\n",
        "players_level_3_finish = level_3_finish.user_pseudo_id.unique()\n",
        "level_3_finishes = level_3_finish.groupby(['user_pseudo_id']).size().reset_index().rename(columns={0: 'num_finishes'})\n",
        "level_3__more_finishes = level_3_finishes[level_3_finishes.num_finishes > 1]"
      ],
      "execution_count": null,
      "outputs": []
    },
    {
      "cell_type": "markdown",
      "metadata": {
        "id": "Kl_yKov3juEf"
      },
      "source": [
        "**All user who removed app after level 3**"
      ]
    },
    {
      "cell_type": "code",
      "metadata": {
        "id": "3Smab7qVjwI0"
      },
      "source": [
        "players_removed_app_df = players_stopped_df[players_stopped_df.event_name == 'app_remove']\n",
        "players_removed_app = players_removed_app_df.user_pseudo_id\n",
        "sum_players_removed_app = len(players_removed_app_df)"
      ],
      "execution_count": null,
      "outputs": []
    },
    {
      "cell_type": "markdown",
      "metadata": {
        "id": "frGgSs0oj5wo"
      },
      "source": [
        "**All users who stopped after level 3 but didn't remove the app**"
      ]
    },
    {
      "cell_type": "code",
      "metadata": {
        "id": "_hZezx3Dj62L"
      },
      "source": [
        "players_stopped_NOT_removed_app = set(players_stopped) - set(players_removed_app)\n",
        "players_stopped_NOT_removed_app_df = data_fin[data_fin.user_pseudo_id.isin(players_stopped_NOT_removed_app)]"
      ],
      "execution_count": null,
      "outputs": []
    },
    {
      "cell_type": "code",
      "metadata": {
        "id": "Afdhf28MkC5P",
        "outputId": "26091f8c-e120-424a-9aae-414849eab172",
        "colab": {
          "base_uri": "https://localhost:8080/",
          "height": 98
        }
      },
      "source": [
        "print(len(players_level_3_4), 'players stopped playing at level 3.')\n",
        "print(len(players_level_3_finish), 'players finished the level 3 at least once.')\n",
        "print(len(level_3__more_finishes), 'players finishes the level 3 more than once.')\n",
        "print(sum_players_removed_app, 'players removed the app after level 3.')\n",
        "print(len(players_stopped_NOT_removed_app), 'players stopped playing after level 3, but didn\\'t remove the app.')"
      ],
      "execution_count": null,
      "outputs": [
        {
          "output_type": "stream",
          "text": [
            "136 players stopped playing at level 3.\n",
            "103 players finished the level 3 at least once.\n",
            "14 players finishes the level 3 more than once.\n",
            "57 players removed the app after level 3.\n",
            "80 players stopped playing after level 3, but didn't remove the app.\n"
          ],
          "name": "stdout"
        }
      ]
    },
    {
      "cell_type": "markdown",
      "metadata": {
        "id": "pr4HxsuG5zlT"
      },
      "source": [
        "####**Unpacking all data in dictionary event_params**"
      ]
    },
    {
      "cell_type": "code",
      "metadata": {
        "id": "RritTep1wKzB",
        "outputId": "1aedd1a2-b1f0-49cd-eb30-0c616cbf1783",
        "colab": {
          "base_uri": "https://localhost:8080/"
        }
      },
      "source": [
        "event_params = extract_dict(original_data, 'event_params')\n",
        "#event_params = extract_dict(event_params, 2)\n",
        "event_params.head()"
      ],
      "execution_count": null,
      "outputs": [
        {
          "output_type": "execute_result",
          "data": {
            "text/html": [
              "<div>\n",
              "<style scoped>\n",
              "    .dataframe tbody tr th:only-of-type {\n",
              "        vertical-align: middle;\n",
              "    }\n",
              "\n",
              "    .dataframe tbody tr th {\n",
              "        vertical-align: top;\n",
              "    }\n",
              "\n",
              "    .dataframe thead th {\n",
              "        text-align: right;\n",
              "    }\n",
              "</style>\n",
              "<table border=\"1\" class=\"dataframe\">\n",
              "  <thead>\n",
              "    <tr style=\"text-align: right;\">\n",
              "      <th></th>\n",
              "      <th>0</th>\n",
              "      <th>1</th>\n",
              "      <th>2</th>\n",
              "      <th>3</th>\n",
              "      <th>4</th>\n",
              "      <th>5</th>\n",
              "      <th>6</th>\n",
              "      <th>7</th>\n",
              "      <th>8</th>\n",
              "      <th>9</th>\n",
              "    </tr>\n",
              "  </thead>\n",
              "  <tbody>\n",
              "    <tr>\n",
              "      <th>0</th>\n",
              "      <td>{'key': 'firebase_event_origin', 'value': {'st...</td>\n",
              "      <td>{'key': 'ga_session_number', 'value': {'int_va...</td>\n",
              "      <td>{'key': 'ga_session_id', 'value': {'int_value'...</td>\n",
              "      <td>{'key': 'engaged_session_event', 'value': {'in...</td>\n",
              "      <td>NaN</td>\n",
              "      <td>NaN</td>\n",
              "      <td>NaN</td>\n",
              "      <td>NaN</td>\n",
              "      <td>NaN</td>\n",
              "      <td>NaN</td>\n",
              "    </tr>\n",
              "    <tr>\n",
              "      <th>1</th>\n",
              "      <td>{'key': 'firebase_event_origin', 'value': {'st...</td>\n",
              "      <td>{'key': 'ga_session_number', 'value': {'int_va...</td>\n",
              "      <td>{'key': 'ga_session_id', 'value': {'int_value'...</td>\n",
              "      <td>{'key': 'engaged_session_event', 'value': {'in...</td>\n",
              "      <td>NaN</td>\n",
              "      <td>NaN</td>\n",
              "      <td>NaN</td>\n",
              "      <td>NaN</td>\n",
              "      <td>NaN</td>\n",
              "      <td>NaN</td>\n",
              "    </tr>\n",
              "    <tr>\n",
              "      <th>2</th>\n",
              "      <td>{'key': 'firebase_event_origin', 'value': {'st...</td>\n",
              "      <td>{'key': 'ga_session_number', 'value': {'int_va...</td>\n",
              "      <td>{'key': 'ga_session_id', 'value': {'int_value'...</td>\n",
              "      <td>{'key': 'engaged_session_event', 'value': {'in...</td>\n",
              "      <td>NaN</td>\n",
              "      <td>NaN</td>\n",
              "      <td>NaN</td>\n",
              "      <td>NaN</td>\n",
              "      <td>NaN</td>\n",
              "      <td>NaN</td>\n",
              "    </tr>\n",
              "    <tr>\n",
              "      <th>3</th>\n",
              "      <td>{'key': 'firebase_event_origin', 'value': {'st...</td>\n",
              "      <td>{'key': 'ga_session_number', 'value': {'int_va...</td>\n",
              "      <td>{'key': 'ga_session_id', 'value': {'int_value'...</td>\n",
              "      <td>{'key': 'session_engaged', 'value': {'int_valu...</td>\n",
              "      <td>{'key': 'engaged_session_event', 'value': {'in...</td>\n",
              "      <td>NaN</td>\n",
              "      <td>NaN</td>\n",
              "      <td>NaN</td>\n",
              "      <td>NaN</td>\n",
              "      <td>NaN</td>\n",
              "    </tr>\n",
              "    <tr>\n",
              "      <th>4</th>\n",
              "      <td>{'key': 'entrances', 'value': {'int_value': '1'}}</td>\n",
              "      <td>{'key': 'firebase_screen_id', 'value': {'int_v...</td>\n",
              "      <td>{'key': 'engaged_session_event', 'value': {'in...</td>\n",
              "      <td>{'key': 'firebase_event_origin', 'value': {'st...</td>\n",
              "      <td>{'key': 'ga_session_number', 'value': {'int_va...</td>\n",
              "      <td>{'key': 'ga_session_id', 'value': {'int_value'...</td>\n",
              "      <td>{'key': 'firebase_screen_class', 'value': {'st...</td>\n",
              "      <td>NaN</td>\n",
              "      <td>NaN</td>\n",
              "      <td>NaN</td>\n",
              "    </tr>\n",
              "  </tbody>\n",
              "</table>\n",
              "</div>"
            ],
            "text/plain": [
              "                                                   0  ...    9\n",
              "0  {'key': 'firebase_event_origin', 'value': {'st...  ...  NaN\n",
              "1  {'key': 'firebase_event_origin', 'value': {'st...  ...  NaN\n",
              "2  {'key': 'firebase_event_origin', 'value': {'st...  ...  NaN\n",
              "3  {'key': 'firebase_event_origin', 'value': {'st...  ...  NaN\n",
              "4  {'key': 'entrances', 'value': {'int_value': '1'}}  ...  NaN\n",
              "\n",
              "[5 rows x 10 columns]"
            ]
          },
          "metadata": {
            "tags": []
          },
          "execution_count": 71
        }
      ]
    },
    {
      "cell_type": "code",
      "metadata": {
        "id": "2WwSCY4W1AKB"
      },
      "source": [
        "event_params_0 = extract_dict(event_params, 0)\n",
        "keys_unique = event_params_0.key.unique()\n",
        "for i in range(1,10):\n",
        "  event_params_i = extract_dict(event_params, i)\n",
        "  event_params_keys = event_params_i.key.unique()\n",
        "  keys_unique = np.append(keys_unique, event_params_keys)"
      ],
      "execution_count": null,
      "outputs": []
    },
    {
      "cell_type": "code",
      "metadata": {
        "id": "4Okgg07Z_uiF",
        "outputId": "543ff008-5bdd-46a6-b13a-5fce4d961ed3",
        "colab": {
          "base_uri": "https://localhost:8080/"
        }
      },
      "source": [
        "set(keys_unique)"
      ],
      "execution_count": null,
      "outputs": [
        {
          "output_type": "execute_result",
          "data": {
            "text/plain": [
              "{'campaign_info_source',\n",
              " 'engaged_session_event',\n",
              " 'engagement_time_msec',\n",
              " 'entrances',\n",
              " 'error_value',\n",
              " 'firebase_conversion',\n",
              " 'firebase_error',\n",
              " 'firebase_event_origin',\n",
              " 'firebase_previous_class',\n",
              " 'firebase_previous_id',\n",
              " 'firebase_screen_class',\n",
              " 'firebase_screen_id',\n",
              " 'freeride',\n",
              " 'ga_session_id',\n",
              " 'ga_session_number',\n",
              " 'level_id',\n",
              " 'medium',\n",
              " nan,\n",
              " nan,\n",
              " nan,\n",
              " nan,\n",
              " nan,\n",
              " nan,\n",
              " nan,\n",
              " nan,\n",
              " nan,\n",
              " 'previous_app_version',\n",
              " 'previous_first_open_count',\n",
              " 'previous_os_version',\n",
              " 'session_engaged',\n",
              " 'source',\n",
              " 'system_app',\n",
              " 'system_app_update',\n",
              " 'update_with_analytics'}"
            ]
          },
          "metadata": {
            "tags": []
          },
          "execution_count": 73
        }
      ]
    },
    {
      "cell_type": "markdown",
      "metadata": {
        "id": "LA5dEUh5707_"
      },
      "source": [
        "**Checking events on user**"
      ]
    },
    {
      "cell_type": "code",
      "metadata": {
        "id": "3zwXlAMK48nc",
        "outputId": "9b310f21-7ff1-4241-e925-b4e75726192d",
        "colab": {
          "base_uri": "https://localhost:8080/"
        }
      },
      "source": [
        "user1 = data_fin[data_fin.user_pseudo_id == '22711351844F47D4AF958D0A77793F1C']\n",
        "user1[['user_pseudo_id', 'event_timestamp', 'event_name', 'level_id', 'country', 'app_version']]"
      ],
      "execution_count": null,
      "outputs": [
        {
          "output_type": "execute_result",
          "data": {
            "text/html": [
              "<div>\n",
              "<style scoped>\n",
              "    .dataframe tbody tr th:only-of-type {\n",
              "        vertical-align: middle;\n",
              "    }\n",
              "\n",
              "    .dataframe tbody tr th {\n",
              "        vertical-align: top;\n",
              "    }\n",
              "\n",
              "    .dataframe thead th {\n",
              "        text-align: right;\n",
              "    }\n",
              "</style>\n",
              "<table border=\"1\" class=\"dataframe\">\n",
              "  <thead>\n",
              "    <tr style=\"text-align: right;\">\n",
              "      <th></th>\n",
              "      <th>user_pseudo_id</th>\n",
              "      <th>event_timestamp</th>\n",
              "      <th>event_name</th>\n",
              "      <th>level_id</th>\n",
              "      <th>country</th>\n",
              "      <th>app_version</th>\n",
              "    </tr>\n",
              "  </thead>\n",
              "  <tbody>\n",
              "    <tr>\n",
              "      <th>11430</th>\n",
              "      <td>22711351844F47D4AF958D0A77793F1C</td>\n",
              "      <td>2020-08-22 19:06:28.601000</td>\n",
              "      <td>session_start</td>\n",
              "      <td>NaN</td>\n",
              "      <td>United Kingdom</td>\n",
              "      <td>0.4.41</td>\n",
              "    </tr>\n",
              "    <tr>\n",
              "      <th>11429</th>\n",
              "      <td>22711351844F47D4AF958D0A77793F1C</td>\n",
              "      <td>2020-08-22 19:06:28.601000</td>\n",
              "      <td>first_open</td>\n",
              "      <td>NaN</td>\n",
              "      <td>United Kingdom</td>\n",
              "      <td>0.4.41</td>\n",
              "    </tr>\n",
              "    <tr>\n",
              "      <th>11431</th>\n",
              "      <td>22711351844F47D4AF958D0A77793F1C</td>\n",
              "      <td>2020-08-22 19:06:28.601001</td>\n",
              "      <td>user_engagement</td>\n",
              "      <td>NaN</td>\n",
              "      <td>United Kingdom</td>\n",
              "      <td>0.4.41</td>\n",
              "    </tr>\n",
              "    <tr>\n",
              "      <th>11432</th>\n",
              "      <td>22711351844F47D4AF958D0A77793F1C</td>\n",
              "      <td>2020-08-22 19:06:30.613002</td>\n",
              "      <td>screen_view</td>\n",
              "      <td>NaN</td>\n",
              "      <td>United Kingdom</td>\n",
              "      <td>0.4.41</td>\n",
              "    </tr>\n",
              "    <tr>\n",
              "      <th>11433</th>\n",
              "      <td>22711351844F47D4AF958D0A77793F1C</td>\n",
              "      <td>2020-08-22 19:07:00.496000</td>\n",
              "      <td>sign_up</td>\n",
              "      <td>NaN</td>\n",
              "      <td>United Kingdom</td>\n",
              "      <td>0.4.41</td>\n",
              "    </tr>\n",
              "    <tr>\n",
              "      <th>11434</th>\n",
              "      <td>22711351844F47D4AF958D0A77793F1C</td>\n",
              "      <td>2020-08-22 19:07:00.557001</td>\n",
              "      <td>login</td>\n",
              "      <td>NaN</td>\n",
              "      <td>United Kingdom</td>\n",
              "      <td>0.4.41</td>\n",
              "    </tr>\n",
              "    <tr>\n",
              "      <th>11435</th>\n",
              "      <td>22711351844F47D4AF958D0A77793F1C</td>\n",
              "      <td>2020-08-22 19:07:03.663000</td>\n",
              "      <td>level_start</td>\n",
              "      <td>1.0</td>\n",
              "      <td>United Kingdom</td>\n",
              "      <td>0.4.41</td>\n",
              "    </tr>\n",
              "    <tr>\n",
              "      <th>11436</th>\n",
              "      <td>22711351844F47D4AF958D0A77793F1C</td>\n",
              "      <td>2020-08-22 19:11:01.462001</td>\n",
              "      <td>user_engagement</td>\n",
              "      <td>NaN</td>\n",
              "      <td>United Kingdom</td>\n",
              "      <td>0.4.41</td>\n",
              "    </tr>\n",
              "    <tr>\n",
              "      <th>11437</th>\n",
              "      <td>22711351844F47D4AF958D0A77793F1C</td>\n",
              "      <td>2020-08-22 19:11:46.868000</td>\n",
              "      <td>level_finish</td>\n",
              "      <td>1.0</td>\n",
              "      <td>United Kingdom</td>\n",
              "      <td>0.4.41</td>\n",
              "    </tr>\n",
              "    <tr>\n",
              "      <th>11438</th>\n",
              "      <td>22711351844F47D4AF958D0A77793F1C</td>\n",
              "      <td>2020-08-22 19:11:57.128001</td>\n",
              "      <td>level_start</td>\n",
              "      <td>2.0</td>\n",
              "      <td>United Kingdom</td>\n",
              "      <td>0.4.41</td>\n",
              "    </tr>\n",
              "    <tr>\n",
              "      <th>11439</th>\n",
              "      <td>22711351844F47D4AF958D0A77793F1C</td>\n",
              "      <td>2020-08-22 19:12:31.286002</td>\n",
              "      <td>level_finish</td>\n",
              "      <td>2.0</td>\n",
              "      <td>United Kingdom</td>\n",
              "      <td>0.4.41</td>\n",
              "    </tr>\n",
              "    <tr>\n",
              "      <th>11440</th>\n",
              "      <td>22711351844F47D4AF958D0A77793F1C</td>\n",
              "      <td>2020-08-22 19:12:39.572003</td>\n",
              "      <td>level_start</td>\n",
              "      <td>3.0</td>\n",
              "      <td>United Kingdom</td>\n",
              "      <td>0.4.41</td>\n",
              "    </tr>\n",
              "    <tr>\n",
              "      <th>11441</th>\n",
              "      <td>22711351844F47D4AF958D0A77793F1C</td>\n",
              "      <td>2020-08-22 19:13:09.306004</td>\n",
              "      <td>level_finish</td>\n",
              "      <td>3.0</td>\n",
              "      <td>United Kingdom</td>\n",
              "      <td>0.4.41</td>\n",
              "    </tr>\n",
              "    <tr>\n",
              "      <th>11442</th>\n",
              "      <td>22711351844F47D4AF958D0A77793F1C</td>\n",
              "      <td>2020-08-22 19:13:27.172005</td>\n",
              "      <td>level_start</td>\n",
              "      <td>4.0</td>\n",
              "      <td>United Kingdom</td>\n",
              "      <td>0.4.41</td>\n",
              "    </tr>\n",
              "    <tr>\n",
              "      <th>11443</th>\n",
              "      <td>22711351844F47D4AF958D0A77793F1C</td>\n",
              "      <td>2020-08-22 19:14:23.879006</td>\n",
              "      <td>level_finish</td>\n",
              "      <td>4.0</td>\n",
              "      <td>United Kingdom</td>\n",
              "      <td>0.4.41</td>\n",
              "    </tr>\n",
              "    <tr>\n",
              "      <th>11444</th>\n",
              "      <td>22711351844F47D4AF958D0A77793F1C</td>\n",
              "      <td>2020-08-22 19:14:33.641007</td>\n",
              "      <td>user_engagement</td>\n",
              "      <td>NaN</td>\n",
              "      <td>United Kingdom</td>\n",
              "      <td>0.4.41</td>\n",
              "    </tr>\n",
              "    <tr>\n",
              "      <th>11445</th>\n",
              "      <td>22711351844F47D4AF958D0A77793F1C</td>\n",
              "      <td>2020-08-22 19:14:50.691000</td>\n",
              "      <td>level_start</td>\n",
              "      <td>4.0</td>\n",
              "      <td>United Kingdom</td>\n",
              "      <td>0.4.41</td>\n",
              "    </tr>\n",
              "    <tr>\n",
              "      <th>11446</th>\n",
              "      <td>22711351844F47D4AF958D0A77793F1C</td>\n",
              "      <td>2020-08-22 19:15:52.684001</td>\n",
              "      <td>level_finish</td>\n",
              "      <td>4.0</td>\n",
              "      <td>United Kingdom</td>\n",
              "      <td>0.4.41</td>\n",
              "    </tr>\n",
              "    <tr>\n",
              "      <th>11447</th>\n",
              "      <td>22711351844F47D4AF958D0A77793F1C</td>\n",
              "      <td>2020-08-22 19:16:01.530002</td>\n",
              "      <td>level_start</td>\n",
              "      <td>4.0</td>\n",
              "      <td>United Kingdom</td>\n",
              "      <td>0.4.41</td>\n",
              "    </tr>\n",
              "    <tr>\n",
              "      <th>11448</th>\n",
              "      <td>22711351844F47D4AF958D0A77793F1C</td>\n",
              "      <td>2020-08-22 19:16:37.116003</td>\n",
              "      <td>level_finish</td>\n",
              "      <td>4.0</td>\n",
              "      <td>United Kingdom</td>\n",
              "      <td>0.4.41</td>\n",
              "    </tr>\n",
              "    <tr>\n",
              "      <th>11449</th>\n",
              "      <td>22711351844F47D4AF958D0A77793F1C</td>\n",
              "      <td>2020-08-22 19:16:43.215004</td>\n",
              "      <td>user_engagement</td>\n",
              "      <td>NaN</td>\n",
              "      <td>United Kingdom</td>\n",
              "      <td>0.4.41</td>\n",
              "    </tr>\n",
              "  </tbody>\n",
              "</table>\n",
              "</div>"
            ],
            "text/plain": [
              "                         user_pseudo_id  ... app_version\n",
              "11430  22711351844F47D4AF958D0A77793F1C  ...      0.4.41\n",
              "11429  22711351844F47D4AF958D0A77793F1C  ...      0.4.41\n",
              "11431  22711351844F47D4AF958D0A77793F1C  ...      0.4.41\n",
              "11432  22711351844F47D4AF958D0A77793F1C  ...      0.4.41\n",
              "11433  22711351844F47D4AF958D0A77793F1C  ...      0.4.41\n",
              "11434  22711351844F47D4AF958D0A77793F1C  ...      0.4.41\n",
              "11435  22711351844F47D4AF958D0A77793F1C  ...      0.4.41\n",
              "11436  22711351844F47D4AF958D0A77793F1C  ...      0.4.41\n",
              "11437  22711351844F47D4AF958D0A77793F1C  ...      0.4.41\n",
              "11438  22711351844F47D4AF958D0A77793F1C  ...      0.4.41\n",
              "11439  22711351844F47D4AF958D0A77793F1C  ...      0.4.41\n",
              "11440  22711351844F47D4AF958D0A77793F1C  ...      0.4.41\n",
              "11441  22711351844F47D4AF958D0A77793F1C  ...      0.4.41\n",
              "11442  22711351844F47D4AF958D0A77793F1C  ...      0.4.41\n",
              "11443  22711351844F47D4AF958D0A77793F1C  ...      0.4.41\n",
              "11444  22711351844F47D4AF958D0A77793F1C  ...      0.4.41\n",
              "11445  22711351844F47D4AF958D0A77793F1C  ...      0.4.41\n",
              "11446  22711351844F47D4AF958D0A77793F1C  ...      0.4.41\n",
              "11447  22711351844F47D4AF958D0A77793F1C  ...      0.4.41\n",
              "11448  22711351844F47D4AF958D0A77793F1C  ...      0.4.41\n",
              "11449  22711351844F47D4AF958D0A77793F1C  ...      0.4.41\n",
              "\n",
              "[21 rows x 6 columns]"
            ]
          },
          "metadata": {
            "tags": []
          },
          "execution_count": 74
        }
      ]
    },
    {
      "cell_type": "code",
      "metadata": {
        "id": "NVn4_7yHhOCY"
      },
      "source": [
        ""
      ],
      "execution_count": null,
      "outputs": []
    },
    {
      "cell_type": "markdown",
      "metadata": {
        "id": "PbcKRaAKk0bt"
      },
      "source": [
        "#**Analysis on country UK**"
      ]
    },
    {
      "cell_type": "code",
      "metadata": {
        "id": "KYGeNYP3k-Xx"
      },
      "source": [
        "data_uk = create_df_country(data_fin, ['United Kingdom'])"
      ],
      "execution_count": null,
      "outputs": []
    },
    {
      "cell_type": "markdown",
      "metadata": {
        "id": "HH6JGCsEfBGC"
      },
      "source": [
        "##**Analysis on levels**"
      ]
    },
    {
      "cell_type": "markdown",
      "metadata": {
        "id": "Em3kXSW76vil"
      },
      "source": [
        "###**Definitions**"
      ]
    },
    {
      "cell_type": "code",
      "metadata": {
        "id": "FcAXRkBG61Fs"
      },
      "source": [
        "def create_win_rates_level_trans(data):\n",
        "  data['win_rates'] = round((data.level_finish / data.level_start) * 100, 1)\n",
        "  data['level_transition'] = round((data.level_start / data.level_finish.shift(1)) * 100, 1)\n",
        "  return data\n",
        "\n",
        "def create_players_winrates_transition(data):\n",
        "  data_players = data.groupby(['level_id', 'event_name', 'user_pseudo_id']).count()\n",
        "  data_players = data_players[['event_date']].groupby(['level_id', 'event_name']).count()\n",
        "  data_players = data_players[['event_date']].reset_index().pivot(index='level_id', columns='event_name', values='event_date')\n",
        "  data_players = create_win_rates_level_trans(data_players).iloc[:25]\n",
        "  data_players.plot.bar(y=['level_start', 'level_finish', 'level_fail'], \n",
        "                 title='Number of unique players per level', figsize=(30,10), color=['darkgrey', 'aquamarine', 'lightcoral'])\n",
        "  plt.show()\n",
        "  ax = data_players.win_rates.plot(figsize=(30,6), title='Win rates and level transition success of unique players per level', \n",
        "                                   legend=True, marker='o')\n",
        "  ax = data_players.level_transition.plot(secondary_y=False, legend=True, marker='o')\n",
        "  plt.xticks(data_players.index)\n",
        "  ax.set_ylabel('% success')\n",
        "  plt.xlim(0.5,25.5)\n",
        "  plt.show()\n",
        "  return data_players\n",
        "\n",
        "def create_games_winrates_transition(data):\n",
        "  data_levels = data.groupby(['level_id', 'event_name']).count()\n",
        "  data_levels = data_levels[['event_date']].reset_index().pivot(index='level_id', columns='event_name', values='event_date')\n",
        "  data_levels = create_win_rates_level_trans(data_levels).iloc[:25]\n",
        "  data_levels.plot.bar(y=['level_start', 'level_finish', 'level_fail'], title='Number of all games played per level',\n",
        "                figsize=(30,10), color=['darkgrey', 'aquamarine', 'lightcoral'])\n",
        "  plt.show()\n",
        "  ax = data_levels.win_rates.plot(figsize=(30,6), legend=True, title='Win rates of all games per level', marker='o')\n",
        "  plt.xticks(data_levels.index)\n",
        "  ax.set_ylabel('% success')\n",
        "  plt.xlim(0.5,25.5)\n",
        "  plt.show()\n",
        "  return data_levels\n",
        "\n",
        "#Time analysis on levels:\n",
        "\n",
        "def avg_play_time(group):\n",
        "  times = []\n",
        "  j = 0\n",
        "  while j+1 < len(group):\n",
        "    if group.event_name.iloc[j+1] in ['level_finish', 'level_fail']:\n",
        "      time = group.event_timestamp.iloc[j+1] - group.event_timestamp.iloc[j]\n",
        "      times.append(time)\n",
        "      j += 2\n",
        "    else:\n",
        "      j += 1\n",
        "  result = np.mean(times)\n",
        "  return result\n",
        "\n",
        "def do_time_analysis_levels(data):\n",
        "  result = {}\n",
        "  result['avg_play_time'] = data.groupby(['level_id', 'user_pseudo_id']).apply(avg_play_time)\n",
        "  result['avg_play_time'] = result['avg_play_time'].map(round_time)\n",
        "  pd.Series(result, index=result.keys())\n",
        "  data = pd.DataFrame(result).reset_index()\n",
        "  return data\n",
        "\n",
        "def calculate_25percentile(group):\n",
        "  result = {}\n",
        "  result['25 percentile'] = group.avg_play_time.quantile(0.25)\n",
        "  return pd.Series(result, index=result.keys())\n",
        "\n",
        "def calculate_50percentile(group):\n",
        "  result = {}\n",
        "  result['50 percentile'] = group.avg_play_time.quantile(0.5)\n",
        "  return pd.Series(result, index=result.keys())\n",
        "\n",
        "def calculate_75percentile(group):\n",
        "  result = {}\n",
        "  result['75 percentile'] = group.avg_play_time.quantile(0.75)\n",
        "  return pd.Series(result, index=result.keys())\n",
        "\n",
        "def plot_time_on_levels(data, data2, title):\n",
        "  ax = data.astype('timedelta64[s]').plot(figsize=(30,6), color=('blue', 'cornflowerblue', 'lightblue'),\n",
        "                                          legend=True, title=title, marker='o')\n",
        "  plt.xticks(data.index)\n",
        "  ax.set_ylabel('time in seconds')\n",
        "  ax2 = data2.plot(x=data.index, secondary_y=True, color='grey', marker='o', legend=True)\n",
        "  ax2.set_ylabel('Number of players')\n",
        "  ax2.set_ylim([0,100])\n",
        "  return plt.show()\n",
        "\n",
        "def sum_play_time(group):\n",
        "  times = []\n",
        "  j = 0\n",
        "  while j+1 < len(group):\n",
        "    if group.event_name.iloc[j+1] in ['level_finish', 'level_fail']:\n",
        "      time = group.event_timestamp.iloc[j+1] - group.event_timestamp.iloc[j]\n",
        "      times.append(time)\n",
        "      j += 2\n",
        "    else:\n",
        "      j += 1\n",
        "  result = times\n",
        "  return result\n",
        "\n",
        "def do_sum_time_analysis_levels(data):\n",
        "  result = {}\n",
        "  result['sum_play_time'] = data.groupby(['level_id', 'user_pseudo_id']).apply(sum_play_time)\n",
        "  pd.Series(result, index=result.keys())\n",
        "  data = pd.DataFrame(result).reset_index()\n",
        "  return data\n",
        "\n",
        "def calc_sum_of_time(list_time):\n",
        "  result = datetime.timedelta(0)\n",
        "  for time in list_time:\n",
        "    result += time\n",
        "  return result\n",
        "\n",
        "def calculate_25percentile_sum(group):\n",
        "  result = {}\n",
        "  result['25 percentile'] = group.sum_play_time.quantile(0.25)\n",
        "  return pd.Series(result, index=result.keys())\n",
        "\n",
        "def calculate_50percentile_sum(group):\n",
        "  result = {}\n",
        "  result['50 percentile'] = group.sum_play_time.quantile(0.5)\n",
        "  return pd.Series(result, index=result.keys())\n",
        "\n",
        "def calculate_75percentile_sum(group):\n",
        "  result = {}\n",
        "  result['75 percentile'] = group.sum_play_time.quantile(0.75)\n",
        "  return pd.Series(result, index=result.keys())\n",
        "\n"
      ],
      "execution_count": null,
      "outputs": []
    },
    {
      "cell_type": "markdown",
      "metadata": {
        "id": "OF2EOGpUu3Oh"
      },
      "source": [
        "###**Defining the levels**"
      ]
    },
    {
      "cell_type": "code",
      "metadata": {
        "id": "oeqX1C3FfAs0"
      },
      "source": [
        "events_levels = data_uk[data_uk.event_name.isin(['level_start', 'level_finish', 'level_fail'])]"
      ],
      "execution_count": null,
      "outputs": []
    },
    {
      "cell_type": "code",
      "metadata": {
        "id": "YpkfI1JDoboi",
        "outputId": "bcd20632-44ae-477e-e572-938b799dce4b",
        "colab": {
          "base_uri": "https://localhost:8080/",
          "height": 390
        }
      },
      "source": [
        "print('There are', events_levels.shape[0], 'events on levels.')\n",
        "events_levels.head()"
      ],
      "execution_count": null,
      "outputs": [
        {
          "output_type": "stream",
          "text": [
            "There are 12056 events on levels.\n"
          ],
          "name": "stdout"
        },
        {
          "output_type": "execute_result",
          "data": {
            "text/html": [
              "<div>\n",
              "<style scoped>\n",
              "    .dataframe tbody tr th:only-of-type {\n",
              "        vertical-align: middle;\n",
              "    }\n",
              "\n",
              "    .dataframe tbody tr th {\n",
              "        vertical-align: top;\n",
              "    }\n",
              "\n",
              "    .dataframe thead th {\n",
              "        text-align: right;\n",
              "    }\n",
              "</style>\n",
              "<table border=\"1\" class=\"dataframe\">\n",
              "  <thead>\n",
              "    <tr style=\"text-align: right;\">\n",
              "      <th></th>\n",
              "      <th>event_date</th>\n",
              "      <th>event_timestamp</th>\n",
              "      <th>event_name</th>\n",
              "      <th>user_pseudo_id</th>\n",
              "      <th>platform</th>\n",
              "      <th>event_previous_timestamp</th>\n",
              "      <th>ga_session_id</th>\n",
              "      <th>level_id</th>\n",
              "      <th>medium</th>\n",
              "      <th>country</th>\n",
              "      <th>app_version</th>\n",
              "      <th>traff_source</th>\n",
              "    </tr>\n",
              "  </thead>\n",
              "  <tbody>\n",
              "    <tr>\n",
              "      <th>24324</th>\n",
              "      <td>20200820</td>\n",
              "      <td>2020-08-20 10:34:08.812002</td>\n",
              "      <td>level_start</td>\n",
              "      <td>51C9C38C36864087B79834B593369253</td>\n",
              "      <td>IOS</td>\n",
              "      <td>NaN</td>\n",
              "      <td>1597919638</td>\n",
              "      <td>1.0</td>\n",
              "      <td>None</td>\n",
              "      <td>United Kingdom</td>\n",
              "      <td>0.4.41</td>\n",
              "      <td>n:(direct),m:(none),s:(direct),</td>\n",
              "    </tr>\n",
              "    <tr>\n",
              "      <th>24325</th>\n",
              "      <td>20200820</td>\n",
              "      <td>2020-08-20 10:34:44.339000</td>\n",
              "      <td>level_finish</td>\n",
              "      <td>51C9C38C36864087B79834B593369253</td>\n",
              "      <td>IOS</td>\n",
              "      <td>NaN</td>\n",
              "      <td>1597919638</td>\n",
              "      <td>1.0</td>\n",
              "      <td>None</td>\n",
              "      <td>United Kingdom</td>\n",
              "      <td>0.4.41</td>\n",
              "      <td>n:(direct),m:(none),s:(direct),</td>\n",
              "    </tr>\n",
              "    <tr>\n",
              "      <th>24326</th>\n",
              "      <td>20200820</td>\n",
              "      <td>2020-08-20 10:34:55.804001</td>\n",
              "      <td>level_start</td>\n",
              "      <td>51C9C38C36864087B79834B593369253</td>\n",
              "      <td>IOS</td>\n",
              "      <td>1.597920e+15</td>\n",
              "      <td>1597919638</td>\n",
              "      <td>2.0</td>\n",
              "      <td>None</td>\n",
              "      <td>United Kingdom</td>\n",
              "      <td>0.4.41</td>\n",
              "      <td>n:(direct),m:(none),s:(direct),</td>\n",
              "    </tr>\n",
              "    <tr>\n",
              "      <th>24327</th>\n",
              "      <td>20200820</td>\n",
              "      <td>2020-08-20 10:35:16.577002</td>\n",
              "      <td>level_finish</td>\n",
              "      <td>51C9C38C36864087B79834B593369253</td>\n",
              "      <td>IOS</td>\n",
              "      <td>1.597920e+15</td>\n",
              "      <td>1597919638</td>\n",
              "      <td>2.0</td>\n",
              "      <td>None</td>\n",
              "      <td>United Kingdom</td>\n",
              "      <td>0.4.41</td>\n",
              "      <td>n:(direct),m:(none),s:(direct),</td>\n",
              "    </tr>\n",
              "    <tr>\n",
              "      <th>24328</th>\n",
              "      <td>20200820</td>\n",
              "      <td>2020-08-20 10:35:23.350003</td>\n",
              "      <td>level_start</td>\n",
              "      <td>51C9C38C36864087B79834B593369253</td>\n",
              "      <td>IOS</td>\n",
              "      <td>1.597920e+15</td>\n",
              "      <td>1597919638</td>\n",
              "      <td>3.0</td>\n",
              "      <td>None</td>\n",
              "      <td>United Kingdom</td>\n",
              "      <td>0.4.41</td>\n",
              "      <td>n:(direct),m:(none),s:(direct),</td>\n",
              "    </tr>\n",
              "  </tbody>\n",
              "</table>\n",
              "</div>"
            ],
            "text/plain": [
              "       event_date  ...                     traff_source\n",
              "24324    20200820  ...  n:(direct),m:(none),s:(direct),\n",
              "24325    20200820  ...  n:(direct),m:(none),s:(direct),\n",
              "24326    20200820  ...  n:(direct),m:(none),s:(direct),\n",
              "24327    20200820  ...  n:(direct),m:(none),s:(direct),\n",
              "24328    20200820  ...  n:(direct),m:(none),s:(direct),\n",
              "\n",
              "[5 rows x 12 columns]"
            ]
          },
          "metadata": {
            "tags": []
          },
          "execution_count": 78
        }
      ]
    },
    {
      "cell_type": "markdown",
      "metadata": {
        "id": "8tRidzGqkS9X"
      },
      "source": [
        "###**Levels played by unique players**"
      ]
    },
    {
      "cell_type": "code",
      "metadata": {
        "id": "aSb2LWN1fU4Z",
        "outputId": "e48acca5-065f-4dbd-c090-17a0255b46d9",
        "colab": {
          "base_uri": "https://localhost:8080/",
          "height": 676
        }
      },
      "source": [
        "_ = create_players_winrates_transition(events_levels)"
      ],
      "execution_count": null,
      "outputs": [
        {
          "output_type": "display_data",
          "data": {
            "image/png": "[encoded data removed]",
            "text/plain": [
              "<Figure size 2160x720 with 1 Axes>"
            ]
          },
          "metadata": {
            "tags": [],
            "needs_background": "light"
          }
        },
        {
          "output_type": "display_data",
          "data": {
            "image/png": "[encoded data removed]",
            "text/plain": [
              "<Figure size 2160x432 with 1 Axes>"
            ]
          },
          "metadata": {
            "tags": [],
            "needs_background": "light"
          }
        }
      ]
    },
    {
      "cell_type": "markdown",
      "metadata": {
        "id": "EYlrvpNqkce9"
      },
      "source": [
        "###**Levels played by all games**"
      ]
    },
    {
      "cell_type": "code",
      "metadata": {
        "id": "2bQdHSQBhk6j",
        "outputId": "4d0816ba-468e-419f-f69e-1fa81cb2e7cb",
        "colab": {
          "base_uri": "https://localhost:8080/",
          "height": 675
        }
      },
      "source": [
        "_ = create_games_winrates_transition(events_levels)"
      ],
      "execution_count": null,
      "outputs": [
        {
          "output_type": "display_data",
          "data": {
            "image/png": "[encoded data removed]",
            "text/plain": [
              "<Figure size 2160x720 with 1 Axes>"
            ]
          },
          "metadata": {
            "tags": [],
            "needs_background": "light"
          }
        },
        {
          "output_type": "display_data",
          "data": {
            "image/png": "[encoded data removed]",
            "text/plain": [
              "<Figure size 2160x432 with 1 Axes>"
            ]
          },
          "metadata": {
            "tags": [],
            "needs_background": "light"
          }
        }
      ]
    },
    {
      "cell_type": "markdown",
      "metadata": {
        "id": "HUtFCqpfmif9"
      },
      "source": [
        "###**Time analysis on levels**"
      ]
    },
    {
      "cell_type": "code",
      "metadata": {
        "id": "ArrKTSynmrQu",
        "outputId": "e2b000dd-ee80-4090-9fe5-d9f5f505f5ad",
        "colab": {
          "base_uri": "https://localhost:8080/",
          "height": 66
        }
      },
      "source": [
        "print('There are', events_levels.shape[0], 'events on levels.')\n",
        "print('There are', len(events_levels.ga_session_id.unique()), 'unique sessions.')\n",
        "print('There are', len(events_levels.user_pseudo_id.unique()), 'unique players.') "
      ],
      "execution_count": null,
      "outputs": [
        {
          "output_type": "stream",
          "text": [
            "There are 12056 events on levels.\n",
            "There are 1136 unique sessions.\n",
            "There are 880 unique players.\n"
          ],
          "name": "stdout"
        }
      ]
    },
    {
      "cell_type": "markdown",
      "metadata": {
        "id": "YZQqdlHVPwlY"
      },
      "source": [
        "####**Average time spent on levels**"
      ]
    },
    {
      "cell_type": "markdown",
      "metadata": {
        "id": "rBQAtgtbn6_v"
      },
      "source": [
        "\n",
        "\n",
        "*   Calculates mean value of time spent on level per user\n",
        "*   Calculates min value of time spent on level from all mean times of users\n",
        "\n"
      ]
    },
    {
      "cell_type": "code",
      "metadata": {
        "id": "lr4ZqaNEsU0o",
        "outputId": "2030f315-9584-4c1f-8b92-5f0023a282a7",
        "colab": {
          "base_uri": "https://localhost:8080/",
          "height": 82
        }
      },
      "source": [
        "avg_time_levels = do_time_analysis_levels(events_levels)\n",
        "#time_level_min = t_d.groupby(['level_id']).avg_play_time.agg(['min'])"
      ],
      "execution_count": null,
      "outputs": [
        {
          "output_type": "stream",
          "text": [
            "/usr/local/lib/python3.6/dist-packages/numpy/core/fromnumeric.py:3335: RuntimeWarning: Mean of empty slice.\n",
            "  out=out, **kwargs)\n",
            "/usr/local/lib/python3.6/dist-packages/numpy/core/_methods.py:161: RuntimeWarning: invalid value encountered in double_scalars\n",
            "  ret = ret.dtype.type(ret / rcount)\n"
          ],
          "name": "stderr"
        }
      ]
    },
    {
      "cell_type": "markdown",
      "metadata": {
        "id": "1CtErDWPbKS2"
      },
      "source": [
        "**Calculate a number of players per level**"
      ]
    },
    {
      "cell_type": "code",
      "metadata": {
        "id": "ahZ_JIxkVL9A"
      },
      "source": [
        "levels_players = avg_time_levels.groupby(['level_id']).size()\n",
        "levels_players = pd.DataFrame(levels_players, columns=['Players'])"
      ],
      "execution_count": null,
      "outputs": []
    },
    {
      "cell_type": "markdown",
      "metadata": {
        "id": "JdLLxBWWp1Uo"
      },
      "source": [
        "Calculates percentile of time spent on level from all mean times of users."
      ]
    },
    {
      "cell_type": "code",
      "metadata": {
        "id": "Ke4sTNHXGm9k",
        "outputId": "2324b678-eac3-4c7a-e14e-4d7c14b4af1b",
        "colab": {
          "base_uri": "https://localhost:8080/",
          "height": 265
        }
      },
      "source": [
        "time_level_25percentile = avg_time_levels.groupby(['level_id']).apply(calculate_25percentile)\n",
        "time_level_50percentile = avg_time_levels.groupby(['level_id']).apply(calculate_50percentile)\n",
        "time_level_75percentile = avg_time_levels.groupby(['level_id']).apply(calculate_75percentile)\n",
        "time_level_percentiles = pd.concat([time_level_75percentile, time_level_50percentile, time_level_25percentile], axis=1)\n",
        "plot_time_on_levels(time_level_percentiles[time_level_percentiles.index < 20], levels_players.Players[levels_players.index < 20], '25, 50 and 75% of average time spent per level attempt')"
      ],
      "execution_count": null,
      "outputs": [
        {
          "output_type": "display_data",
          "data": {
            "image/png": "[encoded data removed]",
            "text/plain": [
              "<Figure size 2160x432 with 2 Axes>"
            ]
          },
          "metadata": {
            "tags": [],
            "needs_background": "light"
          }
        }
      ]
    },
    {
      "cell_type": "markdown",
      "metadata": {
        "id": "Wv8DZsS4PkYE"
      },
      "source": [
        "####**Total time spent on levels**"
      ]
    },
    {
      "cell_type": "code",
      "metadata": {
        "id": "zYOD4WzaPu7A"
      },
      "source": [
        "total_time = do_sum_time_analysis_levels(events_levels)\n",
        "total_time['sum_play_time'] = total_time['sum_play_time'].map(calc_sum_of_time)"
      ],
      "execution_count": null,
      "outputs": []
    },
    {
      "cell_type": "markdown",
      "metadata": {
        "id": "22dowutSqWmw"
      },
      "source": [
        "Calculates 25 percentile of total time spent on level per user."
      ]
    },
    {
      "cell_type": "code",
      "metadata": {
        "id": "EJtvbRz-fJ4T",
        "outputId": "9e6dec55-c471-487d-922c-932f073aa5ae",
        "colab": {
          "base_uri": "https://localhost:8080/",
          "height": 265
        }
      },
      "source": [
        "sum_time_level_25percentile = total_time.groupby(['level_id']).apply(calculate_25percentile_sum)\n",
        "sum_time_level_50percentile = total_time.groupby(['level_id']).apply(calculate_50percentile_sum)\n",
        "sum_time_level_75percentile = total_time.groupby(['level_id']).apply(calculate_75percentile_sum)\n",
        "\n",
        "sum_time_level_percentiles = pd.concat([sum_time_level_75percentile, sum_time_level_50percentile, sum_time_level_25percentile], axis=1)\n",
        "\n",
        "plot_time_on_levels(sum_time_level_percentiles[sum_time_level_percentiles.index < 20], levels_players.Players[levels_players.index < 20], '25, 50 and 75% of total time spent per level')"
      ],
      "execution_count": null,
      "outputs": [
        {
          "output_type": "display_data",
          "data": {
            "image/png": "[encoded data removed]",
            "text/plain": [
              "<Figure size 2160x432 with 2 Axes>"
            ]
          },
          "metadata": {
            "tags": [],
            "needs_background": "light"
          }
        }
      ]
    },
    {
      "cell_type": "markdown",
      "metadata": {
        "id": "NqWxEhrmma9e"
      },
      "source": [
        "##**Analysis on sessions**"
      ]
    },
    {
      "cell_type": "markdown",
      "metadata": {
        "id": "jJtWALzV87_H"
      },
      "source": [
        "###**Definitions**"
      ]
    },
    {
      "cell_type": "code",
      "metadata": {
        "id": "WM9mu6b89Hkd"
      },
      "source": [
        "def rename_close_sessions(group):\n",
        "  for i in range(len(group.event_timestamp)-1):\n",
        "    if (group.ga_session_id.iloc[i] > \"\") and ((group.event_timestamp.iloc[i+1] - group.event_timestamp.iloc[i]) < datetime.timedelta(hours=1)):\n",
        "      group.ga_session_id.iloc[i+1] = group.ga_session_id.iloc[i]\n",
        "  return group\n",
        "\n",
        "def give_length_session(group):\n",
        "  result = {}\n",
        "  result['session_length'] = group.event_timestamp.iloc[-1] - group.event_timestamp.iloc[0]\n",
        "  return pd.Series(result, index=result.keys())\n",
        "\n",
        "def number_sessions(data):\n",
        "  data['session_Nr'] = 1\n",
        "  for i in range(len(data.ga_session_id)-1):\n",
        "    if data.user_pseudo_id.iloc[i+1] != data.user_pseudo_id.iloc[i]:\n",
        "      data.session_Nr[i+1] = 1\n",
        "    elif data.user_pseudo_id.iloc[i+1] == data.user_pseudo_id.iloc[i]:\n",
        "      data.session_Nr[i+1] = data.session_Nr[i] + 1\n",
        "  return data\n",
        "\n",
        "def calculate_25percentile_ses(group):\n",
        "  result = {}\n",
        "  result['25 percentile'] = group.session_length.quantile(0.25)\n",
        "  return pd.Series(result, index=result.keys())\n",
        "\n",
        "def calculate_50percentile_ses(group):\n",
        "  result = {}\n",
        "  result['50 percentile'] = group.session_length.quantile(0.5)\n",
        "  return pd.Series(result, index=result.keys())\n",
        "\n",
        "def calculate_75percentile_ses(group):\n",
        "  result = {}\n",
        "  result['75 percentile'] = group.session_length.quantile(0.75)\n",
        "  return pd.Series(result, index=result.keys())\n",
        "\n",
        "def plot_time_on_sessions(data, column, title):\n",
        "  lines = data[column]\n",
        "  ax = data[['75 percentile', '50 percentile', '25 percentile']].astype('timedelta64[m]').plot(figsize=(30,15), color=('blue', 'cornflowerblue', 'lightblue'), legend=True, title=title, marker='o')\n",
        "  plt.xticks(data.index)\n",
        "  ax.set_ylabel('time in minutes')\n",
        "  ax2 = lines.plot(x=data.index, secondary_y=True, color='grey', marker='o', legend=True)\n",
        "  ax2.set_ylabel('Number of players')\n",
        "  ax2.set_ylim([0,100])\n",
        "  return plt.show()\n",
        "\n"
      ],
      "execution_count": null,
      "outputs": []
    },
    {
      "cell_type": "markdown",
      "metadata": {
        "id": "HDSYhVmfmDYH"
      },
      "source": [
        "###**Defining the session**"
      ]
    },
    {
      "cell_type": "code",
      "metadata": {
        "id": "T1xsE-AB7VQ1"
      },
      "source": [
        "data_uk\n",
        "data_sessions = data_uk.drop(['event_date', 'platform', 'event_previous_timestamp', 'medium', 'country', 'app_version', 'traff_source'], axis=1)"
      ],
      "execution_count": null,
      "outputs": []
    },
    {
      "cell_type": "markdown",
      "metadata": {
        "id": "S2aziE4ar0qT"
      },
      "source": [
        "**Definition of session:**\n",
        "\n",
        "> If the app was removed in separate session, this can mislead the results\n",
        "  -> events with removing the app are removed from df.\n",
        "\n",
        "> All session_id which aren't a number are also removed from df.\n",
        "\n",
        "> Events which are closer than 1h are considered as a same session\n",
        "      -> session id is corrected\n",
        "\n"
      ]
    },
    {
      "cell_type": "code",
      "metadata": {
        "id": "JZCGWz857olq",
        "outputId": "c92294db-21f5-4274-e24e-45ec4569c934",
        "colab": {
          "base_uri": "https://localhost:8080/",
          "height": 191
        }
      },
      "source": [
        "app_removed = data_sessions[data_sessions.event_name == 'app_remove']\n",
        "sessions = data_sessions[data_sessions.event_name != 'app_remove'].dropna(subset=['ga_session_id']).sort_values('event_timestamp')\n",
        "sessions = sessions.groupby('user_pseudo_id').apply(rename_close_sessions)\n",
        "sessions.tail()"
      ],
      "execution_count": null,
      "outputs": [
        {
          "output_type": "execute_result",
          "data": {
            "text/html": [
              "<div>\n",
              "<style scoped>\n",
              "    .dataframe tbody tr th:only-of-type {\n",
              "        vertical-align: middle;\n",
              "    }\n",
              "\n",
              "    .dataframe tbody tr th {\n",
              "        vertical-align: top;\n",
              "    }\n",
              "\n",
              "    .dataframe thead th {\n",
              "        text-align: right;\n",
              "    }\n",
              "</style>\n",
              "<table border=\"1\" class=\"dataframe\">\n",
              "  <thead>\n",
              "    <tr style=\"text-align: right;\">\n",
              "      <th></th>\n",
              "      <th>event_timestamp</th>\n",
              "      <th>event_name</th>\n",
              "      <th>user_pseudo_id</th>\n",
              "      <th>ga_session_id</th>\n",
              "      <th>level_id</th>\n",
              "    </tr>\n",
              "  </thead>\n",
              "  <tbody>\n",
              "    <tr>\n",
              "      <th>819</th>\n",
              "      <td>2020-08-29 21:23:28.520007</td>\n",
              "      <td>level_start</td>\n",
              "      <td>F3E62351BC2B4EA39CCF6EE5C14559A4</td>\n",
              "      <td>1598736034</td>\n",
              "      <td>5.0</td>\n",
              "    </tr>\n",
              "    <tr>\n",
              "      <th>820</th>\n",
              "      <td>2020-08-29 21:23:40.146008</td>\n",
              "      <td>level_finish</td>\n",
              "      <td>F3E62351BC2B4EA39CCF6EE5C14559A4</td>\n",
              "      <td>1598736034</td>\n",
              "      <td>5.0</td>\n",
              "    </tr>\n",
              "    <tr>\n",
              "      <th>821</th>\n",
              "      <td>2020-08-29 21:23:51.876009</td>\n",
              "      <td>level_start</td>\n",
              "      <td>F3E62351BC2B4EA39CCF6EE5C14559A4</td>\n",
              "      <td>1598736034</td>\n",
              "      <td>6.0</td>\n",
              "    </tr>\n",
              "    <tr>\n",
              "      <th>822</th>\n",
              "      <td>2020-08-29 21:24:10.912010</td>\n",
              "      <td>level_finish</td>\n",
              "      <td>F3E62351BC2B4EA39CCF6EE5C14559A4</td>\n",
              "      <td>1598736034</td>\n",
              "      <td>6.0</td>\n",
              "    </tr>\n",
              "    <tr>\n",
              "      <th>823</th>\n",
              "      <td>2020-08-29 21:24:30.375011</td>\n",
              "      <td>user_engagement</td>\n",
              "      <td>F3E62351BC2B4EA39CCF6EE5C14559A4</td>\n",
              "      <td>1598736034</td>\n",
              "      <td>NaN</td>\n",
              "    </tr>\n",
              "  </tbody>\n",
              "</table>\n",
              "</div>"
            ],
            "text/plain": [
              "               event_timestamp       event_name  ... ga_session_id level_id\n",
              "819 2020-08-29 21:23:28.520007      level_start  ...    1598736034      5.0\n",
              "820 2020-08-29 21:23:40.146008     level_finish  ...    1598736034      5.0\n",
              "821 2020-08-29 21:23:51.876009      level_start  ...    1598736034      6.0\n",
              "822 2020-08-29 21:24:10.912010     level_finish  ...    1598736034      6.0\n",
              "823 2020-08-29 21:24:30.375011  user_engagement  ...    1598736034      NaN\n",
              "\n",
              "[5 rows x 5 columns]"
            ]
          },
          "metadata": {
            "tags": []
          },
          "execution_count": 89
        }
      ]
    },
    {
      "cell_type": "code",
      "metadata": {
        "id": "EgxNseuE4_tN",
        "outputId": "c7785165-b6cd-4f37-c170-463c68e084d9",
        "colab": {
          "base_uri": "https://localhost:8080/",
          "height": 98
        }
      },
      "source": [
        "print('There are', data_uk.shape[0], 'events.')\n",
        "print('There are', sessions.shape[0], 'sessions.')\n",
        "print('There are', len(sessions.user_pseudo_id.unique()), 'unique users.')\n",
        "print('There are', app_removed.user_pseudo_id.count(), 'users who removed the app.')\n",
        "print('There are', len(sessions.ga_session_id.unique()), 'sessions for unique users.')"
      ],
      "execution_count": null,
      "outputs": [
        {
          "output_type": "stream",
          "text": [
            "There are 22655 events.\n",
            "There are 20867 sessions.\n",
            "There are 898 unique users.\n",
            "There are 394 users who removed the app.\n",
            "There are 1182 sessions for unique users.\n"
          ],
          "name": "stdout"
        }
      ]
    },
    {
      "cell_type": "markdown",
      "metadata": {
        "id": "Qjm3nijWWWWq"
      },
      "source": [
        "###**Transition to next sessions**"
      ]
    },
    {
      "cell_type": "code",
      "metadata": {
        "id": "F86nZeHuwMgz",
        "outputId": "d114f37d-be88-4d6a-875f-c001ba8cea71",
        "colab": {
          "base_uri": "https://localhost:8080/",
          "height": 357
        }
      },
      "source": [
        "sessions_length = sessions.groupby(['user_pseudo_id', 'ga_session_id']).apply(give_length_session).reset_index().sort_values('user_pseudo_id')\n",
        "sessions_length = number_sessions(sessions_length)\n",
        "sessions_length.head()"
      ],
      "execution_count": null,
      "outputs": [
        {
          "output_type": "stream",
          "text": [
            "/usr/local/lib/python3.6/dist-packages/ipykernel_launcher.py:16: SettingWithCopyWarning: \n",
            "A value is trying to be set on a copy of a slice from a DataFrame\n",
            "\n",
            "See the caveats in the documentation: https://pandas.pydata.org/pandas-docs/stable/user_guide/indexing.html#returning-a-view-versus-a-copy\n",
            "  app.launch_new_instance()\n",
            "/usr/local/lib/python3.6/dist-packages/ipykernel_launcher.py:18: SettingWithCopyWarning: \n",
            "A value is trying to be set on a copy of a slice from a DataFrame\n",
            "\n",
            "See the caveats in the documentation: https://pandas.pydata.org/pandas-docs/stable/user_guide/indexing.html#returning-a-view-versus-a-copy\n"
          ],
          "name": "stderr"
        },
        {
          "output_type": "execute_result",
          "data": {
            "text/html": [
              "<div>\n",
              "<style scoped>\n",
              "    .dataframe tbody tr th:only-of-type {\n",
              "        vertical-align: middle;\n",
              "    }\n",
              "\n",
              "    .dataframe tbody tr th {\n",
              "        vertical-align: top;\n",
              "    }\n",
              "\n",
              "    .dataframe thead th {\n",
              "        text-align: right;\n",
              "    }\n",
              "</style>\n",
              "<table border=\"1\" class=\"dataframe\">\n",
              "  <thead>\n",
              "    <tr style=\"text-align: right;\">\n",
              "      <th></th>\n",
              "      <th>user_pseudo_id</th>\n",
              "      <th>ga_session_id</th>\n",
              "      <th>session_length</th>\n",
              "      <th>session_Nr</th>\n",
              "    </tr>\n",
              "  </thead>\n",
              "  <tbody>\n",
              "    <tr>\n",
              "      <th>0</th>\n",
              "      <td>00dc03764ac37688a13a6aab8229bbf8</td>\n",
              "      <td>1598091249</td>\n",
              "      <td>00:02:47.675008</td>\n",
              "      <td>1</td>\n",
              "    </tr>\n",
              "    <tr>\n",
              "      <th>1</th>\n",
              "      <td>010BAE8B8C454226B789FB199B7D5141</td>\n",
              "      <td>1598471365</td>\n",
              "      <td>00:03:18.452006</td>\n",
              "      <td>1</td>\n",
              "    </tr>\n",
              "    <tr>\n",
              "      <th>2</th>\n",
              "      <td>0134175728B948C5A13F675B8FE225BB</td>\n",
              "      <td>1598042709</td>\n",
              "      <td>00:01:12.818003</td>\n",
              "      <td>1</td>\n",
              "    </tr>\n",
              "    <tr>\n",
              "      <th>3</th>\n",
              "      <td>0155C49239B843E0A286D46DEC35267A</td>\n",
              "      <td>1598358089</td>\n",
              "      <td>00:03:41.615010</td>\n",
              "      <td>1</td>\n",
              "    </tr>\n",
              "    <tr>\n",
              "      <th>4</th>\n",
              "      <td>01a68f02570e3303712e88f9fa92a0cc</td>\n",
              "      <td>1598243914</td>\n",
              "      <td>00:06:19.396013</td>\n",
              "      <td>1</td>\n",
              "    </tr>\n",
              "  </tbody>\n",
              "</table>\n",
              "</div>"
            ],
            "text/plain": [
              "                     user_pseudo_id ga_session_id  session_length  session_Nr\n",
              "0  00dc03764ac37688a13a6aab8229bbf8    1598091249 00:02:47.675008           1\n",
              "1  010BAE8B8C454226B789FB199B7D5141    1598471365 00:03:18.452006           1\n",
              "2  0134175728B948C5A13F675B8FE225BB    1598042709 00:01:12.818003           1\n",
              "3  0155C49239B843E0A286D46DEC35267A    1598358089 00:03:41.615010           1\n",
              "4  01a68f02570e3303712e88f9fa92a0cc    1598243914 00:06:19.396013           1"
            ]
          },
          "metadata": {
            "tags": []
          },
          "execution_count": 91
        }
      ]
    },
    {
      "cell_type": "markdown",
      "metadata": {
        "id": "Hdpziz-XDS8Z"
      },
      "source": [
        "Sessions_amount is a df of all sessions grouped with session_Nr, when function size() is called -> returns amount of players who have 1 session and 2 sessions, 3 sessions, it means that if player has for example 3 sessions, he is calculated in the amount for 1 session, 2 sessions and 3 sessions."
      ]
    },
    {
      "cell_type": "code",
      "metadata": {
        "id": "LF1VnxVDT9kD",
        "outputId": "92bbeec8-c89d-46e5-98fe-b653c458ab9b",
        "colab": {
          "base_uri": "https://localhost:8080/",
          "height": 191
        }
      },
      "source": [
        "sessions_amount = sessions_length.groupby('session_Nr').size().reset_index().rename(columns={0: 'amount_players'})\n",
        "sessions_perc = calculate_percentage(sessions_amount, 'amount_players')\n",
        "sessions_perc.head()"
      ],
      "execution_count": null,
      "outputs": [
        {
          "output_type": "execute_result",
          "data": {
            "text/html": [
              "<div>\n",
              "<style scoped>\n",
              "    .dataframe tbody tr th:only-of-type {\n",
              "        vertical-align: middle;\n",
              "    }\n",
              "\n",
              "    .dataframe tbody tr th {\n",
              "        vertical-align: top;\n",
              "    }\n",
              "\n",
              "    .dataframe thead th {\n",
              "        text-align: right;\n",
              "    }\n",
              "</style>\n",
              "<table border=\"1\" class=\"dataframe\">\n",
              "  <thead>\n",
              "    <tr style=\"text-align: right;\">\n",
              "      <th></th>\n",
              "      <th>session_Nr</th>\n",
              "      <th>amount_players</th>\n",
              "      <th>transition_perc</th>\n",
              "    </tr>\n",
              "  </thead>\n",
              "  <tbody>\n",
              "    <tr>\n",
              "      <th>0</th>\n",
              "      <td>1</td>\n",
              "      <td>898</td>\n",
              "      <td>100.0</td>\n",
              "    </tr>\n",
              "    <tr>\n",
              "      <th>1</th>\n",
              "      <td>2</td>\n",
              "      <td>180</td>\n",
              "      <td>20.0</td>\n",
              "    </tr>\n",
              "    <tr>\n",
              "      <th>2</th>\n",
              "      <td>3</td>\n",
              "      <td>54</td>\n",
              "      <td>6.0</td>\n",
              "    </tr>\n",
              "    <tr>\n",
              "      <th>3</th>\n",
              "      <td>4</td>\n",
              "      <td>19</td>\n",
              "      <td>2.1</td>\n",
              "    </tr>\n",
              "    <tr>\n",
              "      <th>4</th>\n",
              "      <td>5</td>\n",
              "      <td>7</td>\n",
              "      <td>0.8</td>\n",
              "    </tr>\n",
              "  </tbody>\n",
              "</table>\n",
              "</div>"
            ],
            "text/plain": [
              "   session_Nr  amount_players  transition_perc\n",
              "0           1             898            100.0\n",
              "1           2             180             20.0\n",
              "2           3              54              6.0\n",
              "3           4              19              2.1\n",
              "4           5               7              0.8"
            ]
          },
          "metadata": {
            "tags": []
          },
          "execution_count": 92
        }
      ]
    },
    {
      "cell_type": "code",
      "metadata": {
        "id": "2rpOER6XPugy",
        "outputId": "13720571-49f3-43b2-8648-108906874e47",
        "colab": {
          "base_uri": "https://localhost:8080/",
          "height": 775
        }
      },
      "source": [
        "sessions_perc.plot.bar(x='session_Nr', y='amount_players', title='Amount of players who came back to another session', figsize=(20, 6))\n",
        "ax = sessions_perc.iloc[1:].plot.bar(x='session_Nr', y='transition_perc', title='Percentage of players which comes back to another session', figsize=(20, 6))\n",
        "vals = ax.get_yticks()\n",
        "ax.set_yticklabels(['{}%'.format(x) for x in vals])\n",
        "for p in ax.patches:\n",
        "  ax.annotate(str(p.get_height())+'%', (p.get_x()*1.005, p.get_height()*1.02))\n",
        "plt.show()"
      ],
      "execution_count": null,
      "outputs": [
        {
          "output_type": "display_data",
          "data": {
            "image/png": "[encoded data removed]",
            "text/plain": [
              "<Figure size 1440x432 with 1 Axes>"
            ]
          },
          "metadata": {
            "tags": [],
            "needs_background": "light"
          }
        },
        {
          "output_type": "display_data",
          "data": {
            "image/png": "[encoded data removed]",
            "text/plain": [
              "<Figure size 1440x432 with 1 Axes>"
            ]
          },
          "metadata": {
            "tags": [],
            "needs_background": "light"
          }
        }
      ]
    },
    {
      "cell_type": "markdown",
      "metadata": {
        "id": "YcLBtFFQXCL7"
      },
      "source": [
        "###**Total time spent on session per player**"
      ]
    },
    {
      "cell_type": "code",
      "metadata": {
        "id": "FH7CVSU8UmQv",
        "outputId": "3eb89427-96f4-4417-aa5e-09475141a016",
        "colab": {
          "base_uri": "https://localhost:8080/",
          "height": 191
        }
      },
      "source": [
        "sessions_length.head()"
      ],
      "execution_count": null,
      "outputs": [
        {
          "output_type": "execute_result",
          "data": {
            "text/html": [
              "<div>\n",
              "<style scoped>\n",
              "    .dataframe tbody tr th:only-of-type {\n",
              "        vertical-align: middle;\n",
              "    }\n",
              "\n",
              "    .dataframe tbody tr th {\n",
              "        vertical-align: top;\n",
              "    }\n",
              "\n",
              "    .dataframe thead th {\n",
              "        text-align: right;\n",
              "    }\n",
              "</style>\n",
              "<table border=\"1\" class=\"dataframe\">\n",
              "  <thead>\n",
              "    <tr style=\"text-align: right;\">\n",
              "      <th></th>\n",
              "      <th>user_pseudo_id</th>\n",
              "      <th>ga_session_id</th>\n",
              "      <th>session_length</th>\n",
              "      <th>session_Nr</th>\n",
              "    </tr>\n",
              "  </thead>\n",
              "  <tbody>\n",
              "    <tr>\n",
              "      <th>0</th>\n",
              "      <td>00dc03764ac37688a13a6aab8229bbf8</td>\n",
              "      <td>1598091249</td>\n",
              "      <td>00:02:47.675008</td>\n",
              "      <td>1</td>\n",
              "    </tr>\n",
              "    <tr>\n",
              "      <th>1</th>\n",
              "      <td>010BAE8B8C454226B789FB199B7D5141</td>\n",
              "      <td>1598471365</td>\n",
              "      <td>00:03:18.452006</td>\n",
              "      <td>1</td>\n",
              "    </tr>\n",
              "    <tr>\n",
              "      <th>2</th>\n",
              "      <td>0134175728B948C5A13F675B8FE225BB</td>\n",
              "      <td>1598042709</td>\n",
              "      <td>00:01:12.818003</td>\n",
              "      <td>1</td>\n",
              "    </tr>\n",
              "    <tr>\n",
              "      <th>3</th>\n",
              "      <td>0155C49239B843E0A286D46DEC35267A</td>\n",
              "      <td>1598358089</td>\n",
              "      <td>00:03:41.615010</td>\n",
              "      <td>1</td>\n",
              "    </tr>\n",
              "    <tr>\n",
              "      <th>4</th>\n",
              "      <td>01a68f02570e3303712e88f9fa92a0cc</td>\n",
              "      <td>1598243914</td>\n",
              "      <td>00:06:19.396013</td>\n",
              "      <td>1</td>\n",
              "    </tr>\n",
              "  </tbody>\n",
              "</table>\n",
              "</div>"
            ],
            "text/plain": [
              "                     user_pseudo_id ga_session_id  session_length  session_Nr\n",
              "0  00dc03764ac37688a13a6aab8229bbf8    1598091249 00:02:47.675008           1\n",
              "1  010BAE8B8C454226B789FB199B7D5141    1598471365 00:03:18.452006           1\n",
              "2  0134175728B948C5A13F675B8FE225BB    1598042709 00:01:12.818003           1\n",
              "3  0155C49239B843E0A286D46DEC35267A    1598358089 00:03:41.615010           1\n",
              "4  01a68f02570e3303712e88f9fa92a0cc    1598243914 00:06:19.396013           1"
            ]
          },
          "metadata": {
            "tags": []
          },
          "execution_count": 94
        }
      ]
    },
    {
      "cell_type": "code",
      "metadata": {
        "id": "p9sZ_jZMdm6r",
        "outputId": "c6104491-5119-4c32-b1ce-8db3642384d6",
        "colab": {
          "base_uri": "https://localhost:8080/",
          "height": 220
        }
      },
      "source": [
        "sessions_time_25 = sessions_length.groupby('session_Nr').apply(calculate_25percentile_ses)\n",
        "session_time_50 = sessions_length.groupby('session_Nr').apply(calculate_50percentile_ses)\n",
        "sessions_time_75 = sessions_length.groupby('session_Nr').apply(calculate_75percentile_ses)\n",
        "session_time_percentiles = pd.concat([sessions_time_75, session_time_50, sessions_time_25], axis=1)\n",
        "session_time_percentiles['Players'] = sessions_perc['amount_players'].shift(1)\n",
        "session_time_percentiles.head()"
      ],
      "execution_count": null,
      "outputs": [
        {
          "output_type": "execute_result",
          "data": {
            "text/html": [
              "<div>\n",
              "<style scoped>\n",
              "    .dataframe tbody tr th:only-of-type {\n",
              "        vertical-align: middle;\n",
              "    }\n",
              "\n",
              "    .dataframe tbody tr th {\n",
              "        vertical-align: top;\n",
              "    }\n",
              "\n",
              "    .dataframe thead th {\n",
              "        text-align: right;\n",
              "    }\n",
              "</style>\n",
              "<table border=\"1\" class=\"dataframe\">\n",
              "  <thead>\n",
              "    <tr style=\"text-align: right;\">\n",
              "      <th></th>\n",
              "      <th>75 percentile</th>\n",
              "      <th>50 percentile</th>\n",
              "      <th>25 percentile</th>\n",
              "      <th>Players</th>\n",
              "    </tr>\n",
              "    <tr>\n",
              "      <th>session_Nr</th>\n",
              "      <th></th>\n",
              "      <th></th>\n",
              "      <th></th>\n",
              "      <th></th>\n",
              "    </tr>\n",
              "  </thead>\n",
              "  <tbody>\n",
              "    <tr>\n",
              "      <th>1</th>\n",
              "      <td>00:05:40.245508</td>\n",
              "      <td>00:02:46.433507</td>\n",
              "      <td>00:01:43.492755</td>\n",
              "      <td>898.0</td>\n",
              "    </tr>\n",
              "    <tr>\n",
              "      <th>2</th>\n",
              "      <td>00:04:43.819010</td>\n",
              "      <td>00:02:09.986505</td>\n",
              "      <td>00:00:50.047503</td>\n",
              "      <td>180.0</td>\n",
              "    </tr>\n",
              "    <tr>\n",
              "      <th>3</th>\n",
              "      <td>00:05:13.340010</td>\n",
              "      <td>00:02:31.718506</td>\n",
              "      <td>00:00:45.197000</td>\n",
              "      <td>54.0</td>\n",
              "    </tr>\n",
              "    <tr>\n",
              "      <th>4</th>\n",
              "      <td>00:04:44.500016</td>\n",
              "      <td>00:02:58.789010</td>\n",
              "      <td>00:01:13.142002</td>\n",
              "      <td>19.0</td>\n",
              "    </tr>\n",
              "    <tr>\n",
              "      <th>5</th>\n",
              "      <td>00:07:54.020516</td>\n",
              "      <td>00:03:00.321006</td>\n",
              "      <td>00:01:58.561004</td>\n",
              "      <td>7.0</td>\n",
              "    </tr>\n",
              "  </tbody>\n",
              "</table>\n",
              "</div>"
            ],
            "text/plain": [
              "             75 percentile   50 percentile   25 percentile  Players\n",
              "session_Nr                                                         \n",
              "1          00:05:40.245508 00:02:46.433507 00:01:43.492755    898.0\n",
              "2          00:04:43.819010 00:02:09.986505 00:00:50.047503    180.0\n",
              "3          00:05:13.340010 00:02:31.718506 00:00:45.197000     54.0\n",
              "4          00:04:44.500016 00:02:58.789010 00:01:13.142002     19.0\n",
              "5          00:07:54.020516 00:03:00.321006 00:01:58.561004      7.0"
            ]
          },
          "metadata": {
            "tags": []
          },
          "execution_count": 95
        }
      ]
    },
    {
      "cell_type": "code",
      "metadata": {
        "id": "xVhe-nHXaZhZ",
        "outputId": "bd46cba2-bcd4-41f6-a1a7-1f6dee365afc",
        "colab": {
          "base_uri": "https://localhost:8080/",
          "height": 577
        }
      },
      "source": [
        "plot_time_on_sessions(session_time_percentiles[session_time_percentiles.index < 7], 'Players', '25, 50 and 75% total time spent per session per user')"
      ],
      "execution_count": null,
      "outputs": [
        {
          "output_type": "display_data",
          "data": {
            "image/png": "[encoded data removed]",
            "text/plain": [
              "<Figure size 2160x1080 with 2 Axes>"
            ]
          },
          "metadata": {
            "tags": [],
            "needs_background": "light"
          }
        }
      ]
    },
    {
      "cell_type": "markdown",
      "metadata": {
        "id": "QkVAleeXx00A"
      },
      "source": [
        "##**Analysis on days**"
      ]
    },
    {
      "cell_type": "markdown",
      "metadata": {
        "id": "iXUkvgg--SKx"
      },
      "source": [
        "###**Definitions**"
      ]
    },
    {
      "cell_type": "code",
      "metadata": {
        "id": "ZW7GBzmX-VOq"
      },
      "source": [
        "def give_day_of_session(group):\n",
        "  return pd.Series({}, index=[])\n",
        "\n",
        "def count_days2(data):\n",
        "  data['day_Nr'] = 1\n",
        "  for i in range(data.shape[0]-1):\n",
        "    if data.user_pseudo_id.iloc[i+1] == data.user_pseudo_id.iloc[i]:\n",
        "      data.day_Nr.iloc[i+1] = data.day_Nr.iloc[i] + 1\n",
        "  return data\n",
        "\n"
      ],
      "execution_count": null,
      "outputs": []
    },
    {
      "cell_type": "markdown",
      "metadata": {
        "id": "jMISeXCN1FiQ"
      },
      "source": [
        "###**Defining the days**"
      ]
    },
    {
      "cell_type": "markdown",
      "metadata": {
        "id": "7hDjNS_sg4HT"
      },
      "source": [
        "Dataframe without \"app remove\", sorted timestamps, session -> time gap < 1h"
      ]
    },
    {
      "cell_type": "code",
      "metadata": {
        "id": "NDXmS7ugx77M",
        "outputId": "96e74da0-95d1-4de4-a375-bbcb81e39617",
        "colab": {
          "base_uri": "https://localhost:8080/",
          "height": 191
        }
      },
      "source": [
        "sessions.head()"
      ],
      "execution_count": null,
      "outputs": [
        {
          "output_type": "execute_result",
          "data": {
            "text/html": [
              "<div>\n",
              "<style scoped>\n",
              "    .dataframe tbody tr th:only-of-type {\n",
              "        vertical-align: middle;\n",
              "    }\n",
              "\n",
              "    .dataframe tbody tr th {\n",
              "        vertical-align: top;\n",
              "    }\n",
              "\n",
              "    .dataframe thead th {\n",
              "        text-align: right;\n",
              "    }\n",
              "</style>\n",
              "<table border=\"1\" class=\"dataframe\">\n",
              "  <thead>\n",
              "    <tr style=\"text-align: right;\">\n",
              "      <th></th>\n",
              "      <th>event_timestamp</th>\n",
              "      <th>event_name</th>\n",
              "      <th>user_pseudo_id</th>\n",
              "      <th>ga_session_id</th>\n",
              "      <th>level_id</th>\n",
              "    </tr>\n",
              "  </thead>\n",
              "  <tbody>\n",
              "    <tr>\n",
              "      <th>24319</th>\n",
              "      <td>2020-08-20 10:33:58.579000</td>\n",
              "      <td>session_start</td>\n",
              "      <td>51C9C38C36864087B79834B593369253</td>\n",
              "      <td>1597919638</td>\n",
              "      <td>NaN</td>\n",
              "    </tr>\n",
              "    <tr>\n",
              "      <th>24320</th>\n",
              "      <td>2020-08-20 10:33:58.579001</td>\n",
              "      <td>user_engagement</td>\n",
              "      <td>51C9C38C36864087B79834B593369253</td>\n",
              "      <td>1597919638</td>\n",
              "      <td>NaN</td>\n",
              "    </tr>\n",
              "    <tr>\n",
              "      <th>24321</th>\n",
              "      <td>2020-08-20 10:34:01.032002</td>\n",
              "      <td>screen_view</td>\n",
              "      <td>51C9C38C36864087B79834B593369253</td>\n",
              "      <td>1597919638</td>\n",
              "      <td>NaN</td>\n",
              "    </tr>\n",
              "    <tr>\n",
              "      <th>24322</th>\n",
              "      <td>2020-08-20 10:34:04.718000</td>\n",
              "      <td>sign_up</td>\n",
              "      <td>51C9C38C36864087B79834B593369253</td>\n",
              "      <td>1597919638</td>\n",
              "      <td>NaN</td>\n",
              "    </tr>\n",
              "    <tr>\n",
              "      <th>24323</th>\n",
              "      <td>2020-08-20 10:34:04.757001</td>\n",
              "      <td>login</td>\n",
              "      <td>51C9C38C36864087B79834B593369253</td>\n",
              "      <td>1597919638</td>\n",
              "      <td>NaN</td>\n",
              "    </tr>\n",
              "  </tbody>\n",
              "</table>\n",
              "</div>"
            ],
            "text/plain": [
              "                 event_timestamp       event_name  ... ga_session_id level_id\n",
              "24319 2020-08-20 10:33:58.579000    session_start  ...    1597919638      NaN\n",
              "24320 2020-08-20 10:33:58.579001  user_engagement  ...    1597919638      NaN\n",
              "24321 2020-08-20 10:34:01.032002      screen_view  ...    1597919638      NaN\n",
              "24322 2020-08-20 10:34:04.718000          sign_up  ...    1597919638      NaN\n",
              "24323 2020-08-20 10:34:04.757001            login  ...    1597919638      NaN\n",
              "\n",
              "[5 rows x 5 columns]"
            ]
          },
          "metadata": {
            "tags": []
          },
          "execution_count": 98
        }
      ]
    },
    {
      "cell_type": "markdown",
      "metadata": {
        "id": "4YUzcjSHg-kL"
      },
      "source": [
        "New column \"date\" taken from event_timestamp"
      ]
    },
    {
      "cell_type": "code",
      "metadata": {
        "id": "pA3FTOV_jgND",
        "outputId": "629e34dd-f83c-49b4-bc5b-123cf114ba9d",
        "colab": {
          "base_uri": "https://localhost:8080/",
          "height": 191
        }
      },
      "source": [
        "events_dates = sessions\n",
        "events_dates['date'] = events_dates.event_timestamp.dt.date\n",
        "events_dates.head()"
      ],
      "execution_count": null,
      "outputs": [
        {
          "output_type": "execute_result",
          "data": {
            "text/html": [
              "<div>\n",
              "<style scoped>\n",
              "    .dataframe tbody tr th:only-of-type {\n",
              "        vertical-align: middle;\n",
              "    }\n",
              "\n",
              "    .dataframe tbody tr th {\n",
              "        vertical-align: top;\n",
              "    }\n",
              "\n",
              "    .dataframe thead th {\n",
              "        text-align: right;\n",
              "    }\n",
              "</style>\n",
              "<table border=\"1\" class=\"dataframe\">\n",
              "  <thead>\n",
              "    <tr style=\"text-align: right;\">\n",
              "      <th></th>\n",
              "      <th>event_timestamp</th>\n",
              "      <th>event_name</th>\n",
              "      <th>user_pseudo_id</th>\n",
              "      <th>ga_session_id</th>\n",
              "      <th>level_id</th>\n",
              "      <th>date</th>\n",
              "    </tr>\n",
              "  </thead>\n",
              "  <tbody>\n",
              "    <tr>\n",
              "      <th>24319</th>\n",
              "      <td>2020-08-20 10:33:58.579000</td>\n",
              "      <td>session_start</td>\n",
              "      <td>51C9C38C36864087B79834B593369253</td>\n",
              "      <td>1597919638</td>\n",
              "      <td>NaN</td>\n",
              "      <td>2020-08-20</td>\n",
              "    </tr>\n",
              "    <tr>\n",
              "      <th>24320</th>\n",
              "      <td>2020-08-20 10:33:58.579001</td>\n",
              "      <td>user_engagement</td>\n",
              "      <td>51C9C38C36864087B79834B593369253</td>\n",
              "      <td>1597919638</td>\n",
              "      <td>NaN</td>\n",
              "      <td>2020-08-20</td>\n",
              "    </tr>\n",
              "    <tr>\n",
              "      <th>24321</th>\n",
              "      <td>2020-08-20 10:34:01.032002</td>\n",
              "      <td>screen_view</td>\n",
              "      <td>51C9C38C36864087B79834B593369253</td>\n",
              "      <td>1597919638</td>\n",
              "      <td>NaN</td>\n",
              "      <td>2020-08-20</td>\n",
              "    </tr>\n",
              "    <tr>\n",
              "      <th>24322</th>\n",
              "      <td>2020-08-20 10:34:04.718000</td>\n",
              "      <td>sign_up</td>\n",
              "      <td>51C9C38C36864087B79834B593369253</td>\n",
              "      <td>1597919638</td>\n",
              "      <td>NaN</td>\n",
              "      <td>2020-08-20</td>\n",
              "    </tr>\n",
              "    <tr>\n",
              "      <th>24323</th>\n",
              "      <td>2020-08-20 10:34:04.757001</td>\n",
              "      <td>login</td>\n",
              "      <td>51C9C38C36864087B79834B593369253</td>\n",
              "      <td>1597919638</td>\n",
              "      <td>NaN</td>\n",
              "      <td>2020-08-20</td>\n",
              "    </tr>\n",
              "  </tbody>\n",
              "</table>\n",
              "</div>"
            ],
            "text/plain": [
              "                 event_timestamp       event_name  ... level_id        date\n",
              "24319 2020-08-20 10:33:58.579000    session_start  ...      NaN  2020-08-20\n",
              "24320 2020-08-20 10:33:58.579001  user_engagement  ...      NaN  2020-08-20\n",
              "24321 2020-08-20 10:34:01.032002      screen_view  ...      NaN  2020-08-20\n",
              "24322 2020-08-20 10:34:04.718000          sign_up  ...      NaN  2020-08-20\n",
              "24323 2020-08-20 10:34:04.757001            login  ...      NaN  2020-08-20\n",
              "\n",
              "[5 rows x 6 columns]"
            ]
          },
          "metadata": {
            "tags": []
          },
          "execution_count": 99
        }
      ]
    },
    {
      "cell_type": "markdown",
      "metadata": {
        "id": "0Toe_W2i1Tid"
      },
      "source": [
        "###**Transition to next days**"
      ]
    },
    {
      "cell_type": "markdown",
      "metadata": {
        "id": "U56jZPy1hHmP"
      },
      "source": [
        "*   DF grouped with user_id and date, sorted by user_id\n",
        "*   If a player has more dates -> calculated as number of days\n",
        "*   The amount of players having 1 and more days\n",
        "*   Calculated the percentage\n",
        "\n"
      ]
    },
    {
      "cell_type": "code",
      "metadata": {
        "id": "Ra6gtaex7BvZ",
        "outputId": "5ad4efd9-f00d-4254-887f-0e9aa1cbfb7e",
        "colab": {
          "base_uri": "https://localhost:8080/",
          "height": 325
        }
      },
      "source": [
        "day_of_session = events_dates.groupby(['user_pseudo_id', 'date']).apply(give_day_of_session).reset_index().sort_values(['user_pseudo_id'])\n",
        "days_of_session = count_days2(day_of_session)\n",
        "days_of_session = days_of_session.groupby('day_Nr').size().reset_index().rename(columns={0: 'amount_players'})                      \n",
        "days_of_session = calculate_percentage(days_of_session, 'amount_players')\n",
        "days_of_session"
      ],
      "execution_count": null,
      "outputs": [
        {
          "output_type": "stream",
          "text": [
            "/usr/local/lib/python3.6/dist-packages/ipykernel_launcher.py:2: DeprecationWarning: The default dtype for empty Series will be 'object' instead of 'float64' in a future version. Specify a dtype explicitly to silence this warning.\n",
            "  \n",
            "/usr/local/lib/python3.6/dist-packages/pandas/core/indexing.py:671: SettingWithCopyWarning: \n",
            "A value is trying to be set on a copy of a slice from a DataFrame\n",
            "\n",
            "See the caveats in the documentation: https://pandas.pydata.org/pandas-docs/stable/user_guide/indexing.html#returning-a-view-versus-a-copy\n",
            "  self._setitem_with_indexer(indexer, value)\n"
          ],
          "name": "stderr"
        },
        {
          "output_type": "execute_result",
          "data": {
            "text/html": [
              "<div>\n",
              "<style scoped>\n",
              "    .dataframe tbody tr th:only-of-type {\n",
              "        vertical-align: middle;\n",
              "    }\n",
              "\n",
              "    .dataframe tbody tr th {\n",
              "        vertical-align: top;\n",
              "    }\n",
              "\n",
              "    .dataframe thead th {\n",
              "        text-align: right;\n",
              "    }\n",
              "</style>\n",
              "<table border=\"1\" class=\"dataframe\">\n",
              "  <thead>\n",
              "    <tr style=\"text-align: right;\">\n",
              "      <th></th>\n",
              "      <th>day_Nr</th>\n",
              "      <th>amount_players</th>\n",
              "      <th>transition_perc</th>\n",
              "    </tr>\n",
              "  </thead>\n",
              "  <tbody>\n",
              "    <tr>\n",
              "      <th>0</th>\n",
              "      <td>1</td>\n",
              "      <td>898</td>\n",
              "      <td>100.0</td>\n",
              "    </tr>\n",
              "    <tr>\n",
              "      <th>1</th>\n",
              "      <td>2</td>\n",
              "      <td>119</td>\n",
              "      <td>13.3</td>\n",
              "    </tr>\n",
              "    <tr>\n",
              "      <th>2</th>\n",
              "      <td>3</td>\n",
              "      <td>25</td>\n",
              "      <td>2.8</td>\n",
              "    </tr>\n",
              "    <tr>\n",
              "      <th>3</th>\n",
              "      <td>4</td>\n",
              "      <td>6</td>\n",
              "      <td>0.7</td>\n",
              "    </tr>\n",
              "    <tr>\n",
              "      <th>4</th>\n",
              "      <td>5</td>\n",
              "      <td>3</td>\n",
              "      <td>0.3</td>\n",
              "    </tr>\n",
              "  </tbody>\n",
              "</table>\n",
              "</div>"
            ],
            "text/plain": [
              "   day_Nr  amount_players  transition_perc\n",
              "0       1             898            100.0\n",
              "1       2             119             13.3\n",
              "2       3              25              2.8\n",
              "3       4               6              0.7\n",
              "4       5               3              0.3"
            ]
          },
          "metadata": {
            "tags": []
          },
          "execution_count": 100
        }
      ]
    },
    {
      "cell_type": "code",
      "metadata": {
        "id": "oLjrxmxWtfMY",
        "outputId": "a11418de-19f7-4334-e24b-8646fe3d46ca",
        "colab": {
          "base_uri": "https://localhost:8080/",
          "height": 677
        }
      },
      "source": [
        "days_of_session.plot.bar(x='day_Nr', y='amount_players', title='Amount of players who came back for more days', figsize=(15,5))\n",
        "ax = days_of_session.iloc[1:].plot.bar(x='day_Nr', y='transition_perc', title='Percentage of players who came back for more days', figsize=(15, 5))\n",
        "vals = ax.get_yticks()\n",
        "ax.set_yticklabels(['{}%'.format(x) for x in vals])\n",
        "for p in ax.patches:\n",
        "  ax.annotate(str(p.get_height())+'%', (p.get_x()*1.005, p.get_height()*1.02))\n",
        "plt.show()"
      ],
      "execution_count": null,
      "outputs": [
        {
          "output_type": "display_data",
          "data": {
            "image/png": "[encoded data removed]",
            "text/plain": [
              "<Figure size 1080x360 with 1 Axes>"
            ]
          },
          "metadata": {
            "tags": [],
            "needs_background": "light"
          }
        },
        {
          "output_type": "display_data",
          "data": {
            "image/png": "[encoded data removed]",
            "text/plain": [
              "<Figure size 1080x360 with 1 Axes>"
            ]
          },
          "metadata": {
            "tags": [],
            "needs_background": "light"
          }
        }
      ]
    }
  ]
}